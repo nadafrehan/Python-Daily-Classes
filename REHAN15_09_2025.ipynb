{
  "nbformat": 4,
  "nbformat_minor": 0,
  "metadata": {
    "colab": {
      "provenance": [],
      "authorship_tag": "ABX9TyNAUd9yHeLqvvsbwgYXId65",
      "include_colab_link": true
    },
    "kernelspec": {
      "name": "python3",
      "display_name": "Python 3"
    },
    "language_info": {
      "name": "python"
    }
  },
  "cells": [
    {
      "cell_type": "markdown",
      "metadata": {
        "id": "view-in-github",
        "colab_type": "text"
      },
      "source": [
        "<a href=\"https://colab.research.google.com/github/nadafrehan/Python-Daily-Classes/blob/main/REHAN15_09_2025.ipynb\" target=\"_parent\"><img src=\"https://colab.research.google.com/assets/colab-badge.svg\" alt=\"Open In Colab\"/></a>"
      ]
    },
    {
      "cell_type": "code",
      "source": [
        "Example = (1,\"rehan\",3.12,False)\n",
        "print(Example)\n",
        "print(len(Example))\n",
        "print(type(Example))\n",
        "print(Example.count(1))\n",
        "print(Example[0:3])\n",
        "print(Example[3])\n",
        "print(Example[-1])\n",
        "9"
      ],
      "metadata": {
        "colab": {
          "base_uri": "https://localhost:8080/"
        },
        "id": "2K39YAnpoFj2",
        "outputId": "2290b1f8-95fb-4b4b-8eff-4704df2b928c"
      },
      "execution_count": null,
      "outputs": [
        {
          "output_type": "stream",
          "name": "stdout",
          "text": [
            "(1, 'rehan', 3.12, False)\n",
            "4\n",
            "<class 'tuple'>\n",
            "1\n",
            "(1, 'rehan', 3.12)\n",
            "False\n",
            "False\n"
          ]
        }
      ]
    },
    {
      "cell_type": "code",
      "source": [
        "Example = {1,1,2,3,3,4,5}\n",
        "print(Example)\n",
        "print(type(Example))\n",
        "print(len(Example))\n",
        "Example.add(10)\n",
        "print(Example)\n",
        "Example.add(\"BKC\")\n",
        "print(Example)\n"
      ],
      "metadata": {
        "colab": {
          "base_uri": "https://localhost:8080/"
        },
        "id": "Rc_kIb6evYvC",
        "outputId": "d29953b9-110e-412e-fc59-dc297bf90d40"
      },
      "execution_count": null,
      "outputs": [
        {
          "output_type": "stream",
          "name": "stdout",
          "text": [
            "{1, 2, 3, 4, 5}\n",
            "<class 'set'>\n",
            "5\n",
            "{1, 2, 3, 4, 5, 10}\n",
            "{1, 2, 3, 4, 5, 'BKC', 10}\n"
          ]
        }
      ]
    },
    {
      "cell_type": "code",
      "source": [
        "Ex = {1,2,2,3,4,4,5,6,7}\n",
        "print(Ex)\n",
        "print(type(Ex))\n",
        "print(len(Ex))\n",
        "Ex.add(\"BKC\")\n",
        "print(Ex)\n",
        "Ex.add(5.67)\n",
        "print(Ex)\n",
        "Ex.add(\"True\")\n",
        "Ex.remove(4)\n",
        "print(Ex)\n",
        "print(Ex.pop())\n",
        "print(Ex)\n",
        "\n"
      ],
      "metadata": {
        "colab": {
          "base_uri": "https://localhost:8080/"
        },
        "id": "L0BCz0LOw4iY",
        "outputId": "9c1f1d11-7a89-48da-e9c9-7b5f80c756e5"
      },
      "execution_count": null,
      "outputs": [
        {
          "output_type": "stream",
          "name": "stdout",
          "text": [
            "{1, 2, 3, 4, 5, 6, 7}\n",
            "<class 'set'>\n",
            "7\n",
            "{1, 2, 3, 4, 5, 6, 7, 'BKC'}\n",
            "{1, 2, 3, 4, 5, 6, 7, 'BKC', 5.67}\n",
            "{1, 2, 3, 5, 6, 7, 'BKC', 5.67, 'True'}\n",
            "1\n",
            "{2, 3, 5, 6, 7, 'BKC', 5.67, 'True'}\n"
          ]
        }
      ]
    },
    {
      "cell_type": "code",
      "source": [
        "first = {1,2,3,4,4,2}\n",
        "second = {3,5,4,6}\n",
        "print(first | second)\n",
        "print(first|(second))\n",
        "print(first & second)\n",
        "print(first.intersection(second))\n",
        "\n",
        "print(first - second)\n",
        "print(first.difference(second))\n",
        "\n",
        "print(second - first)\n",
        "print(second.difference(first))\n"
      ],
      "metadata": {
        "colab": {
          "base_uri": "https://localhost:8080/"
        },
        "id": "YqzXi4WxyjEH",
        "outputId": "8a2024ad-fae7-497c-e077-868124d15bca"
      },
      "execution_count": null,
      "outputs": [
        {
          "output_type": "stream",
          "name": "stdout",
          "text": [
            "{1, 2, 3, 4, 5, 6}\n",
            "{1, 2, 3, 4, 5, 6}\n",
            "{3, 4}\n",
            "{3, 4}\n",
            "{1, 2}\n",
            "{1, 2}\n",
            "{5, 6}\n",
            "{5, 6}\n"
          ]
        }
      ]
    },
    {
      "cell_type": "code",
      "source": [
        "Dict = {\"Roll_number\" : 201,\n",
        "        \"Name\"        : \"Rehan\",\n",
        "        \"Address\"     : \"Nasalapur\",\n",
        "         \"CGPA\"       : 7.53,\n",
        "        \"course\"      : \"MCA\",\n",
        "        \"Year\"        : 2022,\n",
        "        \"Age\" : 18,\n",
        "}\n",
        "print(Dict)\n",
        "print(len(Dict))\n",
        "Dict[\"Gender\"] = \"Male\"\n",
        "print(Dict)\n",
        "Dict[\"Mobile Number\"] = \"9035251410\"\n",
        "print(Dict)\n",
        "Dict[\"Collage\"] = \"BK BCA Collage Chikkodi\"\n",
        "print(Dict)\n",
        "print(Dict)\n",
        "del Dict[\"Gender\"]\n",
        "print(Dict)\n",
        "Dict[\"Gender\"] = \"Male\"\n",
        "print(Dict)\n",
        "print(Dict[\"Collage\"])\n",
        "print(Dict[\"Age\"])\n",
        "print(Dict)\n",
        "del Dict[\"Address\"]\n",
        "print(Dict)\n",
        "Dict.popitem()\n",
        "print(Dict)\n",
        "print(Dict.keys())\n",
        "print(Dict.values())\n",
        "print(Dict.items())\n",
        "print(Dict.clear())\n",
        "\n"
      ],
      "metadata": {
        "colab": {
          "base_uri": "https://localhost:8080/"
        },
        "id": "KqVlzmE94ZXk",
        "outputId": "4bd9b863-6814-415c-8332-7084f778c363"
      },
      "execution_count": null,
      "outputs": [
        {
          "output_type": "stream",
          "name": "stdout",
          "text": [
            "{'Roll_number': 201, 'Name': 'Rehan', 'Address': 'Nasalapur', 'CGPA': 7.53, 'course': 'MCA', 'Year': 2022, 'Age': 18}\n",
            "7\n",
            "{'Roll_number': 201, 'Name': 'Rehan', 'Address': 'Nasalapur', 'CGPA': 7.53, 'course': 'MCA', 'Year': 2022, 'Age': 18, 'Gender': 'Male'}\n",
            "{'Roll_number': 201, 'Name': 'Rehan', 'Address': 'Nasalapur', 'CGPA': 7.53, 'course': 'MCA', 'Year': 2022, 'Age': 18, 'Gender': 'Male', 'Mobile Number': '9035251410'}\n",
            "{'Roll_number': 201, 'Name': 'Rehan', 'Address': 'Nasalapur', 'CGPA': 7.53, 'course': 'MCA', 'Year': 2022, 'Age': 18, 'Gender': 'Male', 'Mobile Number': '9035251410', 'Collage': 'BK BCA Collage Chikkodi'}\n",
            "{'Roll_number': 201, 'Name': 'Rehan', 'Address': 'Nasalapur', 'CGPA': 7.53, 'course': 'MCA', 'Year': 2022, 'Age': 18, 'Gender': 'Male', 'Mobile Number': '9035251410', 'Collage': 'BK BCA Collage Chikkodi', 'university': 'R C University'}\n",
            "{'Roll_number': 201, 'Name': 'Rehan', 'Address': 'Nasalapur', 'CGPA': 7.53, 'course': 'MCA', 'Year': 2022, 'Age': 18, 'Mobile Number': '9035251410', 'Collage': 'BK BCA Collage Chikkodi', 'university': 'R C University'}\n",
            "{'Roll_number': 201, 'Name': 'Rehan', 'Address': 'Nasalapur', 'CGPA': 7.53, 'course': 'MCA', 'Year': 2022, 'Age': 18, 'Mobile Number': '9035251410', 'Collage': 'BK BCA Collage Chikkodi', 'university': 'R C University', 'Gender': 'Male'}\n",
            "BK BCA Collage Chikkodi\n",
            "18\n",
            "{'Roll_number': 201, 'Name': 'Rehan', 'Address': 'Nasalapur', 'CGPA': 7.53, 'course': 'MCA', 'Year': 2022, 'Age': 18, 'Mobile Number': '9035251410', 'Collage': 'BK BCA Collage Chikkodi', 'university': 'R C University', 'Gender': 'Male'}\n",
            "{'Roll_number': 201, 'Name': 'Rehan', 'CGPA': 7.53, 'course': 'MCA', 'Year': 2022, 'Age': 18, 'Mobile Number': '9035251410', 'Collage': 'BK BCA Collage Chikkodi', 'university': 'R C University', 'Gender': 'Male'}\n",
            "{'Roll_number': 201, 'Name': 'Rehan', 'CGPA': 7.53, 'course': 'MCA', 'Year': 2022, 'Age': 18, 'Mobile Number': '9035251410', 'Collage': 'BK BCA Collage Chikkodi', 'university': 'R C University'}\n",
            "dict_keys(['Roll_number', 'Name', 'CGPA', 'course', 'Year', 'Age', 'Mobile Number', 'Collage', 'university'])\n",
            "dict_values([201, 'Rehan', 7.53, 'MCA', 2022, 18, '9035251410', 'BK BCA Collage Chikkodi', 'R C University'])\n",
            "dict_items([('Roll_number', 201), ('Name', 'Rehan'), ('CGPA', 7.53), ('course', 'MCA'), ('Year', 2022), ('Age', 18), ('Mobile Number', '9035251410'), ('Collage', 'BK BCA Collage Chikkodi'), ('university', 'R C University')])\n",
            "None\n"
          ]
        }
      ]
    },
    {
      "cell_type": "code",
      "source": [
        "a = 10\n",
        "b = 3\n",
        "c = a+b\n",
        "print(type(a))\n",
        "print(type(b))\n",
        "print(type(c))\n",
        "\n",
        "print(type(a/b))\n",
        "\n",
        "x = 2.5\n",
        "y = 3.5\n",
        "print(type(x+y))"
      ],
      "metadata": {
        "colab": {
          "base_uri": "https://localhost:8080/"
        },
        "id": "ANumdM1emFX6",
        "outputId": "f3e20de0-a4bc-404b-9187-9c94994224f6"
      },
      "execution_count": null,
      "outputs": [
        {
          "output_type": "stream",
          "name": "stdout",
          "text": [
            "<class 'int'>\n",
            "<class 'int'>\n",
            "<class 'int'>\n",
            "<class 'float'>\n",
            "<class 'float'>\n"
          ]
        }
      ]
    },
    {
      "cell_type": "code",
      "source": [
        "#int ->float\n",
        "\n",
        "i = 20\n",
        "j = 5.5\n",
        "k = i+j\n",
        "print(type(k))"
      ],
      "metadata": {
        "colab": {
          "base_uri": "https://localhost:8080/"
        },
        "id": "CmnXEuz0neGf",
        "outputId": "8ceeb16f-cccb-4e5a-8624-785b1f2e7cf4"
      },
      "execution_count": null,
      "outputs": [
        {
          "output_type": "stream",
          "name": "stdout",
          "text": [
            "<class 'float'>\n"
          ]
        }
      ]
    },
    {
      "cell_type": "code",
      "source": [
        "#\\\n",
        "a = 49\n",
        "b = 7\n",
        "print(type(a/b))"
      ],
      "metadata": {
        "colab": {
          "base_uri": "https://localhost:8080/"
        },
        "id": "x8Dejpb7oJDM",
        "outputId": "153ba021-12ac-4833-9968-6113d1c5fc6d"
      },
      "execution_count": null,
      "outputs": [
        {
          "output_type": "stream",
          "name": "stdout",
          "text": [
            "<class 'float'>\n"
          ]
        }
      ]
    },
    {
      "cell_type": "code",
      "source": [
        "i = True\n",
        "j = 5\n",
        "print(type(i+j))"
      ],
      "metadata": {
        "colab": {
          "base_uri": "https://localhost:8080/"
        },
        "id": "4dn56KjEo3a-",
        "outputId": "81db0b57-d58a-45fd-a51c-f95ecefe00ac"
      },
      "execution_count": null,
      "outputs": [
        {
          "output_type": "stream",
          "name": "stdout",
          "text": [
            "<class 'int'>\n"
          ]
        }
      ]
    },
    {
      "cell_type": "code",
      "source": [
        "M = 2.9\n",
        "N = False\n",
        "O = M-N\n",
        "print(type(0))"
      ],
      "metadata": {
        "colab": {
          "base_uri": "https://localhost:8080/"
        },
        "id": "iHDAk0IJpgfF",
        "outputId": "93905b8b-4d5d-4db0-a74e-54a90b52005d"
      },
      "execution_count": null,
      "outputs": [
        {
          "output_type": "stream",
          "name": "stdout",
          "text": [
            "<class 'int'>\n"
          ]
        }
      ]
    },
    {
      "cell_type": "code",
      "source": [
        "p = True\n",
        "q = False\n",
        "R = p+q\n",
        "print(type(R))"
      ],
      "metadata": {
        "colab": {
          "base_uri": "https://localhost:8080/"
        },
        "id": "8aGvWJkzp6y9",
        "outputId": "d0273e5a-db1d-47d4-d696-b2ed68df76ac"
      },
      "execution_count": null,
      "outputs": [
        {
          "output_type": "stream",
          "name": "stdout",
          "text": [
            "<class 'int'>\n"
          ]
        }
      ]
    },
    {
      "cell_type": "code",
      "source": [
        "S = 2.6\n",
        "T = False\n",
        "print(type(S*T))"
      ],
      "metadata": {
        "colab": {
          "base_uri": "https://localhost:8080/"
        },
        "id": "fQIXK-gnqWMm",
        "outputId": "2be907a8-ffee-410f-c48d-f013f794ca4d"
      },
      "execution_count": null,
      "outputs": [
        {
          "output_type": "stream",
          "name": "stdout",
          "text": [
            "<class 'float'>\n"
          ]
        }
      ]
    },
    {
      "cell_type": "code",
      "source": [
        "num =3/2\n",
        "print(type(num))\n",
        "add = int (num)\n",
        "print(type(add))\n"
      ],
      "metadata": {
        "colab": {
          "base_uri": "https://localhost:8080/"
        },
        "id": "3WozfMyKsG2F",
        "outputId": "a24067ac-58ec-4164-8832-1596899448a6"
      },
      "execution_count": null,
      "outputs": [
        {
          "output_type": "stream",
          "name": "stdout",
          "text": [
            "<class 'float'>\n",
            "<class 'int'>\n"
          ]
        }
      ]
    },
    {
      "cell_type": "code",
      "source": [
        "num = 3.12\n",
        "print(type(num))\n",
        "add = int(num)\n",
        "print(type(add))\n",
        "\n",
        "mul = float(add)\n",
        "print(type(mul))\n",
        "\n"
      ],
      "metadata": {
        "colab": {
          "base_uri": "https://localhost:8080/"
        },
        "id": "9LXYNuQMsuQk",
        "outputId": "e1e13dff-9b5e-4be6-8e24-8ba7d93d7f9c"
      },
      "execution_count": null,
      "outputs": [
        {
          "output_type": "stream",
          "name": "stdout",
          "text": [
            "<class 'float'>\n",
            "<class 'int'>\n",
            "<class 'float'>\n"
          ]
        }
      ]
    },
    {
      "cell_type": "code",
      "source": [
        "Num = \"101\"\n",
        "print(type(Num))\n",
        "add = int(Num)\n",
        "print(type(add))\n"
      ],
      "metadata": {
        "colab": {
          "base_uri": "https://localhost:8080/"
        },
        "id": "F0EL0j1rt0ns",
        "outputId": "c614005d-c5da-40bc-fb5f-f6516909d4e0"
      },
      "execution_count": null,
      "outputs": [
        {
          "output_type": "stream",
          "name": "stdout",
          "text": [
            "<class 'str'>\n",
            "<class 'int'>\n"
          ]
        }
      ]
    },
    {
      "cell_type": "code",
      "source": [
        "Ex = True\n",
        "print(type(Ex))\n",
        "Fem = int(Ex)\n",
        "print(type(add))"
      ],
      "metadata": {
        "colab": {
          "base_uri": "https://localhost:8080/"
        },
        "id": "7TRmzhA3utN1",
        "outputId": "931b1a76-f720-48e7-b702-545f8f3c884d"
      },
      "execution_count": null,
      "outputs": [
        {
          "output_type": "stream",
          "name": "stdout",
          "text": [
            "<class 'bool'>\n",
            "<class 'int'>\n"
          ]
        }
      ]
    },
    {
      "cell_type": "code",
      "source": [
        "demo = 1\n",
        "print(type(demo))\n",
        "print(type(bool(demo)))"
      ],
      "metadata": {
        "colab": {
          "base_uri": "https://localhost:8080/"
        },
        "id": "f-zF6K87we2a",
        "outputId": "24febe3a-0f82-44ee-fdb3-e393b7eb912f"
      },
      "execution_count": null,
      "outputs": [
        {
          "output_type": "stream",
          "name": "stdout",
          "text": [
            "<class 'int'>\n",
            "<class 'bool'>\n"
          ]
        }
      ]
    },
    {
      "cell_type": "code",
      "source": [
        "demo = 9.99\n",
        "print(type(demo))\n",
        "print(type(bool(demo)))"
      ],
      "metadata": {
        "colab": {
          "base_uri": "https://localhost:8080/"
        },
        "id": "_Jl99gA0wymi",
        "outputId": "641c6c1a-3b07-4e61-b285-339e4b3e2236"
      },
      "execution_count": null,
      "outputs": [
        {
          "output_type": "stream",
          "name": "stdout",
          "text": [
            "<class 'float'>\n",
            "<class 'bool'>\n"
          ]
        }
      ]
    },
    {
      "cell_type": "code",
      "source": [
        "demo = False\n",
        "print(type(demo))\n",
        "print(type(float(demo)))"
      ],
      "metadata": {
        "colab": {
          "base_uri": "https://localhost:8080/"
        },
        "id": "LGLu6fNrwwCC",
        "outputId": "f02ab651-cfe0-4202-dff3-88afcf3be29b"
      },
      "execution_count": null,
      "outputs": [
        {
          "output_type": "stream",
          "name": "stdout",
          "text": [
            "<class 'bool'>\n",
            "<class 'float'>\n"
          ]
        }
      ]
    },
    {
      "cell_type": "code",
      "source": [
        "# 1) str -> list\n",
        "Num1 = \"Rehan\"\n",
        "print(type(Num1))\n",
        "\n",
        "Ex = list(Num1)\n",
        "print(type(Ex))"
      ],
      "metadata": {
        "colab": {
          "base_uri": "https://localhost:8080/"
        },
        "id": "HIBCZB_EyAO5",
        "outputId": "643a5804-0580-42d4-f66b-896c46318337"
      },
      "execution_count": null,
      "outputs": [
        {
          "output_type": "stream",
          "name": "stdout",
          "text": [
            "<class 'str'>\n",
            "<class 'list'>\n"
          ]
        }
      ]
    },
    {
      "cell_type": "code",
      "source": [
        "# 2)tupal -> list\n",
        "Num2 = (1,2,3,4,5)\n",
        "print(type(Num2))\n",
        "\n",
        "Ex2 = list(Num2)\n",
        "print(type(Ex2))"
      ],
      "metadata": {
        "colab": {
          "base_uri": "https://localhost:8080/"
        },
        "id": "5rEg4_aB4MP_",
        "outputId": "ea3c9786-d589-4eca-a29a-cb0d7c471445"
      },
      "execution_count": null,
      "outputs": [
        {
          "output_type": "stream",
          "name": "stdout",
          "text": [
            "<class 'tuple'>\n",
            "<class 'list'>\n"
          ]
        }
      ]
    },
    {
      "cell_type": "code",
      "source": [
        "# 3)set -> list\n",
        "Num3 = {1,23,4,5}\n",
        "print(type(Num3))\n",
        "\n",
        "Ex3 = list(Num3)\n",
        "print(type(Ex3))"
      ],
      "metadata": {
        "colab": {
          "base_uri": "https://localhost:8080/"
        },
        "id": "f92kL9z84KbY",
        "outputId": "07ac73ee-2085-4bf9-d39f-14ade37a6745"
      },
      "execution_count": null,
      "outputs": [
        {
          "output_type": "stream",
          "name": "stdout",
          "text": [
            "<class 'set'>\n",
            "<class 'list'>\n"
          ]
        }
      ]
    },
    {
      "cell_type": "code",
      "source": [
        "# 4)Dict-> list\n",
        "Num4 = {}\n",
        "print(type(Num4))\n",
        "\n",
        "Ex4 = list(Num4)\n",
        "print(type(Ex4))"
      ],
      "metadata": {
        "colab": {
          "base_uri": "https://localhost:8080/"
        },
        "id": "wlpxSbB85Qyn",
        "outputId": "e141f064-b341-4bb7-f7f4-52962febbb7f"
      },
      "execution_count": null,
      "outputs": [
        {
          "output_type": "stream",
          "name": "stdout",
          "text": [
            "<class 'dict'>\n",
            "<class 'list'>\n"
          ]
        }
      ]
    },
    {
      "cell_type": "code",
      "source": [
        "# 1) list -> Dict\n",
        "Num2 = [(\"a\",1),(\"b\",2),(\"c\",3)]\n",
        "print(type(Num2))\n",
        "\n",
        "Ex2 = dict(Num2)\n",
        "print(type(Ex2))"
      ],
      "metadata": {
        "colab": {
          "base_uri": "https://localhost:8080/"
        },
        "id": "TaUwk_y38NNM",
        "outputId": "45bf8dbd-bf54-4b56-947b-2977104c7f5c"
      },
      "execution_count": null,
      "outputs": [
        {
          "output_type": "stream",
          "name": "stdout",
          "text": [
            "<class 'list'>\n",
            "<class 'dict'>\n"
          ]
        }
      ]
    },
    {
      "cell_type": "code",
      "source": [
        "# 2) tuple -> dict\n",
        "Num3 = ((\"name\",\"Rehan\"),(\"Age\",25))\n",
        "print(type(Num3))\n",
        "\n",
        "Ex3 = dict(Num3)\n",
        "print(type(Ex3))\n"
      ],
      "metadata": {
        "colab": {
          "base_uri": "https://localhost:8080/"
        },
        "id": "t7GySbEy9DRt",
        "outputId": "a869eb34-3ede-43f2-88c0-c9b1dd3e0d13"
      },
      "execution_count": null,
      "outputs": [
        {
          "output_type": "stream",
          "name": "stdout",
          "text": [
            "<class 'tuple'>\n",
            "<class 'dict'>\n"
          ]
        }
      ]
    },
    {
      "cell_type": "code",
      "source": [
        "# 3)set-> dict\n",
        "Num4 = {(\"Roll Number\",501),(\"section\",\"C\")}\n",
        "print(type(Num4))\n",
        "\n",
        "Ex4=dict(Num4)\n",
        "print(type(Ex4))\n"
      ],
      "metadata": {
        "colab": {
          "base_uri": "https://localhost:8080/"
        },
        "id": "CNJ3YWxM_Xtv",
        "outputId": "8c155844-5849-4916-a17a-7c4974bb1294"
      },
      "execution_count": null,
      "outputs": [
        {
          "output_type": "stream",
          "name": "stdout",
          "text": [
            "<class 'set'>\n",
            "<class 'dict'>\n"
          ]
        }
      ]
    },
    {
      "cell_type": "code",
      "source": [
        "#I/P a=10,b=20\n",
        "#O/P a=20,b=10\n",
        "\n",
        "A=10\n",
        "B=20\n",
        "print(\"Before Swapping\")\n",
        "print(\"A=\",A,\"B=\",B)\n",
        "\n",
        "print(\"After Swapping\")\n",
        "temp=A\n",
        "A=B\n",
        "B=temp\n",
        "print(\"A=\",A,\"B=\",B)\n"
      ],
      "metadata": {
        "colab": {
          "base_uri": "https://localhost:8080/"
        },
        "id": "zmst3PdBDixi",
        "outputId": "229bc87e-5cd5-48fe-ec84-bf52edcc7d10"
      },
      "execution_count": 154,
      "outputs": [
        {
          "output_type": "stream",
          "name": "stdout",
          "text": [
            "Before Swapping\n",
            "A= 10 B= 20\n",
            "After Swapping\n",
            "A= 20 B= 10\n"
          ]
        }
      ]
    },
    {
      "cell_type": "code",
      "source": [
        "X = 10\n",
        "Y = 20\n",
        "print(\"Before swapping\")\n",
        "print(\"X=\",X,\"Y=\",Y)\n",
        "X=X+Y\n",
        "Y=X-Y\n",
        "X = X-Y\n",
        "print(\"X=\",X,\"Y=\",Y)\n"
      ],
      "metadata": {
        "colab": {
          "base_uri": "https://localhost:8080/"
        },
        "id": "VrCw11A7F15C",
        "outputId": "107c6abb-e414-47a5-c25f-2f3980fba2ac"
      },
      "execution_count": 156,
      "outputs": [
        {
          "output_type": "stream",
          "name": "stdout",
          "text": [
            "Before swapping\n",
            "X= 10 Y= 20\n",
            "X= 20 Y= 10\n"
          ]
        }
      ]
    }
  ]
}