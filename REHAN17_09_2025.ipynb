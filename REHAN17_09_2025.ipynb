{
  "nbformat": 4,
  "nbformat_minor": 0,
  "metadata": {
    "colab": {
      "provenance": [],
      "authorship_tag": "ABX9TyODsRsT83YhXY1PGk+3gFHG",
      "include_colab_link": true
    },
    "kernelspec": {
      "name": "python3",
      "display_name": "Python 3"
    },
    "language_info": {
      "name": "python"
    }
  },
  "cells": [
    {
      "cell_type": "markdown",
      "metadata": {
        "id": "view-in-github",
        "colab_type": "text"
      },
      "source": [
        "<a href=\"https://colab.research.google.com/github/nadafrehan/Python-Daily-Classes/blob/main/REHAN17_09_2025.ipynb\" target=\"_parent\"><img src=\"https://colab.research.google.com/assets/colab-badge.svg\" alt=\"Open In Colab\"/></a>"
      ]
    },
    {
      "cell_type": "code",
      "source": [
        "a ,b,c = 25,35,15\n",
        "if a > b :\n",
        "  if a > c :\n",
        "    print(\"A is a largest number\")\n",
        "  else :\n",
        "    print(\"C is a largest number\")\n",
        "else :\n",
        "  if b > c :\n",
        "    print(\"B is a largest number\")\n",
        "  else :\n",
        "    print(\"C is a largest number\")\n"
      ],
      "metadata": {
        "colab": {
          "base_uri": "https://localhost:8080/"
        },
        "id": "fCW5uHAi_K63",
        "outputId": "a8b7893b-3e60-4e26-bd5c-8c0a2d3c61bd"
      },
      "execution_count": null,
      "outputs": [
        {
          "output_type": "stream",
          "name": "stdout",
          "text": [
            "B is a largest number\n"
          ]
        }
      ]
    },
    {
      "cell_type": "code",
      "source": [
        "a,b,c=25,30,40\n",
        "if a > b :\n",
        "  if a > c :\n",
        "    print(\"A is a largest number\",a)\n",
        "  else :\n",
        "    print(\"C is the largest number\",c)\n",
        "else :\n",
        "  if b > c :\n",
        "    print(\"B ia the largest number\",b)\n",
        "  else :\n",
        "    print(\"C is the largest number\")"
      ],
      "metadata": {
        "colab": {
          "base_uri": "https://localhost:8080/"
        },
        "id": "74F-fbmp_gWg",
        "outputId": "4661a853-26df-491b-c41d-585b222be3a8"
      },
      "execution_count": null,
      "outputs": [
        {
          "output_type": "stream",
          "name": "stdout",
          "text": [
            "C is the largest number\n"
          ]
        }
      ]
    },
    {
      "cell_type": "code",
      "source": [
        "num = -5\n",
        "if num > 0 :\n",
        "  if num == 0 :\n",
        "    print(\"Zero value\")\n",
        "else :\n",
        "  print(\"Negative numbe\")"
      ],
      "metadata": {
        "id": "ztuY4_vWAWnn",
        "colab": {
          "base_uri": "https://localhost:8080/"
        },
        "outputId": "4836f734-09a2-4bbb-f420-15b3753744af"
      },
      "execution_count": 34,
      "outputs": [
        {
          "output_type": "stream",
          "name": "stdout",
          "text": [
            "Negative numbe\n"
          ]
        }
      ]
    },
    {
      "cell_type": "code",
      "source": [
        "num = int(input(\"Enter number value is : \"))\n",
        "if num > 0 :\n",
        "  if num == 0 :\n",
        "    print(\"Zero value\")\n",
        "  else :\n",
        "    print(\"Positive number\")\n",
        "else :\n",
        "    print(\"Negative number\")"
      ],
      "metadata": {
        "id": "tCvzMr7ZA8h-"
      },
      "execution_count": null,
      "outputs": []
    },
    {
      "cell_type": "code",
      "source": [
        "#Write a program arthmatic oprator usibg switch statements\n",
        "x, y = 10,20\n",
        "option = input(\"Enter youre choice option : \")\n",
        "match option :\n",
        "     case '+':\n",
        "           print(\"Sum of values\", x + y)\n",
        "     case '-':\n",
        "           print(\"substraction of values\", x + y)\n",
        "     case '*':\n",
        "           print(\"multiplication of values\", x*y)\n",
        "     case '/':\n",
        "           print(\"division of values\", x/y )\n",
        "     case '%':\n",
        "           print(\"modelus of values\", x%y)\n",
        "     case '!=':\n",
        "           print(\"\",x!=y)\n",
        "     case _ :\n",
        "           print(\"invalid operator\")\n"
      ],
      "metadata": {
        "id": "-ha1sFifEzAX"
      },
      "execution_count": null,
      "outputs": []
    },
    {
      "cell_type": "code",
      "source": [
        "day = int(input(\"Enter your choice option :\"))\n",
        "match option :\n",
        "  case 1 :\n",
        "    print(\"Monday\")\n",
        "  case 2 :\n",
        "    print(\"Tuesday\")\n",
        "  case 3 :\n",
        "    print(\"Wednesday\")\n",
        "  case 4 :\n",
        "    print(\"Thursday\")\n",
        "  case 5 :\n",
        "    print(\"Friday\")\n",
        "  case 6 :\n",
        "    print(\"Saturday\")\n",
        "  case 7 :\n",
        "    print(\"Sunday\")\n",
        "  case _ :\n",
        "    print(\"Holiday\")"
      ],
      "metadata": {
        "id": "Ix6Az5bKMkk3"
      },
      "execution_count": null,
      "outputs": []
    },
    {
      "cell_type": "code",
      "source": [
        "day = int(input(\"Enter your choice option :\"))\n",
        "match option :\n",
        "  case 1 :\n",
        "    print(\"january\")\n",
        "  case 2 :\n",
        "    print(\"February\")\n",
        "  case 3 :\n",
        "    print(\"march\")\n",
        "  case 4 :\n",
        "    print(\"april\")\n",
        "  case 5 :\n",
        "    print(\"may\")\n",
        "  case 6 :\n",
        "    print(\"September\")\n",
        "  case 7 :\n",
        "    print(\"october\")\n",
        "  case _ :\n",
        "    print(\"Invalid choice\")"
      ],
      "metadata": {
        "id": "zUE5jVPQN0-y"
      },
      "execution_count": null,
      "outputs": []
    },
    {
      "cell_type": "code",
      "source": [
        "i = 1\n",
        "while i <= 60 :\n",
        "      print(i)\n",
        "      i +=1\n",
        "\n"
      ],
      "metadata": {
        "id": "VEVDeYWHQw2t"
      },
      "execution_count": null,
      "outputs": []
    },
    {
      "cell_type": "code",
      "source": [
        "print(*range(1,60))"
      ],
      "metadata": {
        "id": "-wBiXa7RR8Zz"
      },
      "execution_count": null,
      "outputs": []
    },
    {
      "cell_type": "code",
      "source": [
        "i = 1\n",
        "add = 0\n",
        "while i <= 10:\n",
        " add= add + i\n",
        " i =i + 1\n",
        "\n",
        "print(\"sum of N natural number is : \",add)"
      ],
      "metadata": {
        "id": "BQlT-td_Teut"
      },
      "execution_count": null,
      "outputs": []
    },
    {
      "cell_type": "code",
      "source": [
        "num = 5\n",
        "i = 1\n",
        "while i <= 10 :\n",
        "    print(\"5 *\",i,\"=\",num*i)\n",
        "    i = i + 1"
      ],
      "metadata": {
        "id": "m2TiKyzlWG_U"
      },
      "execution_count": null,
      "outputs": []
    },
    {
      "cell_type": "code",
      "source": [
        "num = int(input(\"Enter the number : \"))\n",
        "rem = 0\n",
        "rev = 0\n",
        "temp = num\n",
        "while num > 0 :\n",
        "  rem = num % 10\n",
        "  rev = rev * 10 + rem\n",
        "  num = num // 10\n",
        "if temp == rev :\n",
        "  print(\"polindrom number\")\n",
        "else :\n",
        "  print(\"Not poloride number\")"
      ],
      "metadata": {
        "id": "uxM89bLDad0b"
      },
      "execution_count": null,
      "outputs": []
    },
    {
      "cell_type": "code",
      "source": [
        "i =2\n",
        "while i <=100 :\n",
        "  print(i, end = \" \")\n",
        "  i +=2"
      ],
      "metadata": {
        "id": "pytNmmU4kpkN",
        "colab": {
          "base_uri": "https://localhost:8080/"
        },
        "outputId": "e899c4d5-4d53-4851-8fae-137f170a0d7f"
      },
      "execution_count": 1,
      "outputs": [
        {
          "output_type": "stream",
          "name": "stdout",
          "text": [
            "2 4 6 8 10 12 14 16 18 20 22 24 26 28 30 32 34 36 38 40 42 44 46 48 50 52 54 56 58 60 62 64 66 68 70 72 74 76 78 80 82 84 86 88 90 92 94 96 98 100 "
          ]
        }
      ]
    },
    {
      "cell_type": "code",
      "source": [
        "num = int(input(\"Enter a number value\"))\n",
        "count = 0\n",
        "i = 1\n",
        "while i <=1 :\n",
        "  if num % i == 0:\n",
        "    count+=1\n",
        "  i+=1\n",
        "if count == 2 :\n",
        "  print(\"The number is prime\")\n",
        "else :\n",
        "  print(\"The number is not prime\")"
      ],
      "metadata": {
        "colab": {
          "base_uri": "https://localhost:8080/"
        },
        "id": "ehz7x4BAmUvJ",
        "outputId": "7785cb21-f5bb-40bf-9165-c4136b833f3f"
      },
      "execution_count": null,
      "outputs": [
        {
          "output_type": "stream",
          "name": "stdout",
          "text": [
            "Enter a number value454\n",
            "The number is not prime\n"
          ]
        }
      ]
    },
    {
      "cell_type": "code",
      "source": [
        "i = 1\n",
        "while i <= 1280 :\n",
        "  print(i, end=\" \")\n",
        "  i*=2"
      ],
      "metadata": {
        "colab": {
          "base_uri": "https://localhost:8080/"
        },
        "id": "CwrXljcinemY",
        "outputId": "dfc500bc-7027-461b-dc36-8a60fcaa35ca"
      },
      "execution_count": null,
      "outputs": [
        {
          "output_type": "stream",
          "name": "stdout",
          "text": [
            "1 2 4 8 16 32 64 128 256 512 1024 "
          ]
        }
      ]
    },
    {
      "cell_type": "code",
      "source": [
        "colours = ['Blue','red','pink','Black']\n",
        "for i in colours :\n",
        "    print (i)\n"
      ],
      "metadata": {
        "colab": {
          "base_uri": "https://localhost:8080/"
        },
        "id": "QfQcWrAN-GQH",
        "outputId": "34e03c19-3423-4b80-80bc-811b131e298b"
      },
      "execution_count": null,
      "outputs": [
        {
          "output_type": "stream",
          "name": "stdout",
          "text": [
            "Blue\n",
            "red\n",
            "pink\n",
            "Black\n"
          ]
        }
      ]
    },
    {
      "cell_type": "code",
      "source": [
        "numbers = {1,2,3,4,5,6,7,8,9}\n",
        "for i in numbers :\n",
        "  print(i)"
      ],
      "metadata": {
        "colab": {
          "base_uri": "https://localhost:8080/"
        },
        "id": "aMlShLzS-S9W",
        "outputId": "e3b6ef88-23c4-481c-f86a-878fcb7df10c"
      },
      "execution_count": null,
      "outputs": [
        {
          "output_type": "stream",
          "name": "stdout",
          "text": [
            "1\n",
            "2\n",
            "3\n",
            "4\n",
            "5\n",
            "6\n",
            "7\n",
            "8\n",
            "9\n"
          ]
        }
      ]
    },
    {
      "cell_type": "code",
      "source": [
        "Name = \"KLE BK BCA Collage in chikkodi\"\n",
        "rev = \"\"\n",
        "for i in Name:\n",
        "    rev = i + rev\n",
        "print(rev)"
      ],
      "metadata": {
        "colab": {
          "base_uri": "https://localhost:8080/"
        },
        "id": "dGNivNonAtOY",
        "outputId": "f2c2ce95-b90a-4151-8a02-7528f99204d5"
      },
      "execution_count": 27,
      "outputs": [
        {
          "output_type": "stream",
          "name": "stdout",
          "text": [
            "idokkihc ni egalloC ACB KB ELK\n"
          ]
        }
      ]
    },
    {
      "cell_type": "code",
      "source": [
        "# Sum of first 10 natural numbers\n",
        "n = 10\n",
        "total = 0\n",
        "\n",
        "for i in range(1, n + 1):\n",
        "    total += i\n",
        "\n",
        "print(\"Sum of first\", n, \"natural numbers is\", total)\n"
      ],
      "metadata": {
        "colab": {
          "base_uri": "https://localhost:8080/"
        },
        "id": "aEOvLtzqJzTz",
        "outputId": "51bbc9fe-468e-4235-999b-7e34e2577583"
      },
      "execution_count": 2,
      "outputs": [
        {
          "output_type": "stream",
          "name": "stdout",
          "text": [
            "Sum of first 10 natural numbers is 55\n"
          ]
        }
      ]
    },
    {
      "cell_type": "code",
      "source": [
        "for i in range(1,10+1):\n",
        "  print(i)\n"
      ],
      "metadata": {
        "colab": {
          "base_uri": "https://localhost:8080/"
        },
        "id": "th5lgh9QPUmj",
        "outputId": "488e4c08-e8e3-46e2-b38c-03fdbabceebc"
      },
      "execution_count": 3,
      "outputs": [
        {
          "output_type": "stream",
          "name": "stdout",
          "text": [
            "1\n",
            "2\n",
            "3\n",
            "4\n",
            "5\n",
            "6\n",
            "7\n",
            "8\n",
            "9\n",
            "10\n"
          ]
        }
      ]
    },
    {
      "cell_type": "code",
      "source": [
        "# Multiplication table of 4\n",
        "num = 4\n",
        "\n",
        "for i in range(1, 11):\n",
        "    print(f\"{num} x {i} = {num * i}\")\n",
        "0."
      ],
      "metadata": {
        "colab": {
          "base_uri": "https://localhost:8080/"
        },
        "id": "OwvK-pjaQKXK",
        "outputId": "e42c571d-7a78-4901-e80e-690f33df1269"
      },
      "execution_count": 4,
      "outputs": [
        {
          "output_type": "stream",
          "name": "stdout",
          "text": [
            "4 x 1 = 4\n",
            "4 x 2 = 8\n",
            "4 x 3 = 12\n",
            "4 x 4 = 16\n",
            "4 x 5 = 20\n",
            "4 x 6 = 24\n",
            "4 x 7 = 28\n",
            "4 x 8 = 32\n",
            "4 x 9 = 36\n",
            "4 x 10 = 40\n"
          ]
        },
        {
          "output_type": "execute_result",
          "data": {
            "text/plain": [
              "0.0"
            ]
          },
          "metadata": {},
          "execution_count": 4
        }
      ]
    },
    {
      "cell_type": "code",
      "source": [
        "for i in range(2,101,2):\n",
        "  print(i,end=\" \")\n",
        "\n"
      ],
      "metadata": {
        "colab": {
          "base_uri": "https://localhost:8080/"
        },
        "id": "6jtGxR2oQjLh",
        "outputId": "a2c8cf00-6d43-4e99-dcf4-8715237fe0b1"
      },
      "execution_count": 5,
      "outputs": [
        {
          "output_type": "stream",
          "name": "stdout",
          "text": [
            "2 4 6 8 10 12 14 16 18 20 22 24 26 28 30 32 34 36 38 40 42 44 46 48 50 52 54 56 58 60 62 64 66 68 70 72 74 76 78 80 82 84 86 88 90 92 94 96 98 100 "
          ]
        }
      ]
    },
    {
      "cell_type": "code",
      "source": [
        "fact = 1\n",
        "for i in range(1,6) :\n",
        "    fact = fact * i\n",
        "print(\"Factorial number is : \",fact)"
      ],
      "metadata": {
        "colab": {
          "base_uri": "https://localhost:8080/"
        },
        "id": "DCbnpOVUSxti",
        "outputId": "e380158d-c4c5-4e85-f4d0-39f79e5044ab"
      },
      "execution_count": 8,
      "outputs": [
        {
          "output_type": "stream",
          "name": "stdout",
          "text": [
            "Factorial number is :  120\n"
          ]
        }
      ]
    },
    {
      "cell_type": "code",
      "source": [
        "a , b = 0,1\n",
        "for i in range(1,14):\n",
        "  print(a,b,end=\" \")\n",
        "  a, b = b, a+b\n",
        ""
      ],
      "metadata": {
        "colab": {
          "base_uri": "https://localhost:8080/"
        },
        "id": "N2mo5dlQT7eF",
        "outputId": "7e904ecc-4d87-46dc-d169-50a5d8ef7623"
      },
      "execution_count": 18,
      "outputs": [
        {
          "output_type": "stream",
          "name": "stdout",
          "text": [
            "0 1 1 1 1 2 2 3 3 5 5 8 8 13 13 21 21 34 34 55 55 89 89 144 144 233 "
          ]
        }
      ]
    },
    {
      "cell_type": "code",
      "source": [],
      "metadata": {
        "id": "YWCpcxdoV5fA"
      },
      "execution_count": 12,
      "outputs": []
    }
  ]
}