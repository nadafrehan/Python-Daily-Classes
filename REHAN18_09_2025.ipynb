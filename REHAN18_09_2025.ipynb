{
  "nbformat": 4,
  "nbformat_minor": 0,
  "metadata": {
    "colab": {
      "provenance": [],
      "authorship_tag": "ABX9TyM0AgCdU/KgHiAQN8+xGE9d",
      "include_colab_link": true
    },
    "kernelspec": {
      "name": "python3",
      "display_name": "Python 3"
    },
    "language_info": {
      "name": "python"
    }
  },
  "cells": [
    {
      "cell_type": "markdown",
      "metadata": {
        "id": "view-in-github",
        "colab_type": "text"
      },
      "source": [
        "<a href=\"https://colab.research.google.com/github/nadafrehan/Python-Daily-Classes/blob/main/REHAN18_09_2025.ipynb\" target=\"_parent\"><img src=\"https://colab.research.google.com/assets/colab-badge.svg\" alt=\"Open In Colab\"/></a>"
      ]
    },
    {
      "cell_type": "code",
      "execution_count": null,
      "metadata": {
        "colab": {
          "base_uri": "https://localhost:8080/"
        },
        "id": "ZcZRgxfyEknu",
        "outputId": "04f680b0-52f2-43aa-f7cf-77d07e724064"
      },
      "outputs": [
        {
          "output_type": "stream",
          "name": "stdout",
          "text": [
            "Total vowels is : 8\n"
          ]
        }
      ],
      "source": [
        "sentence = \"python programming laungage\"\n",
        "count = 0\n",
        "for ch in sentence :\n",
        "  if ch in \"aeiou\" :\n",
        "    count +=1\n",
        "print(\"Total vowels is :\",count)"
      ]
    },
    {
      "cell_type": "code",
      "source": [
        "#write a program area of Triangle using python programming language\n",
        "base = 4\n",
        "height = 5\n",
        "triangle = 0.5 * base * height\n",
        "print(\"Area of triangle is : \",triangle)\n"
      ],
      "metadata": {
        "colab": {
          "base_uri": "https://localhost:8080/"
        },
        "id": "3J8hLs-OGG9Y",
        "outputId": "0e37f6d8-009a-47e9-91cd-454818b8ea1c"
      },
      "execution_count": null,
      "outputs": [
        {
          "output_type": "stream",
          "name": "stdout",
          "text": [
            "Area of triangle is :  10.0\n"
          ]
        }
      ]
    },
    {
      "cell_type": "code",
      "source": [
        "#write a program area of Circle using python programming language\n",
        "pi = 3.14\n",
        "radius = 4\n",
        "area = pi * radius * radius\n",
        "print(\"Area of circle is : \", area)"
      ],
      "metadata": {
        "colab": {
          "base_uri": "https://localhost:8080/"
        },
        "id": "-59T9yzqHdO3",
        "outputId": "34624064-80b2-40b2-fc65-97d984db04ee"
      },
      "execution_count": null,
      "outputs": [
        {
          "output_type": "stream",
          "name": "stdout",
          "text": [
            "Area of circle is :  50.24\n"
          ]
        }
      ]
    },
    {
      "cell_type": "code",
      "source": [
        "Example = [5, 25,35,28,45,10,15]\n",
        "largest = Example[0]\n",
        "for num in Example :\n",
        "  if num > largest :\n",
        "    largest = num\n",
        "print(\"Largest number is : \",largest)"
      ],
      "metadata": {
        "colab": {
          "base_uri": "https://localhost:8080/"
        },
        "id": "Sudmd-_AJDR3",
        "outputId": "78e6c2e7-dc49-4d4d-f738-6fcfbb97fb88"
      },
      "execution_count": null,
      "outputs": [
        {
          "output_type": "stream",
          "name": "stdout",
          "text": [
            "Largest number is :  45\n"
          ]
        }
      ]
    },
    {
      "cell_type": "code",
      "source": [
        "#write a program count of consonents in string value\n",
        "#\"bacholer of computer science first semister section C\"\n",
        "sentence = \"Bachelor of computer science First semester section C\"\n",
        "count = 0\n",
        "for ch in sentence :\n",
        "    if ch not in \"aeiou\" :\n",
        "       count +=1\n",
        "print(\"Total consonents is : \",count)"
      ],
      "metadata": {
        "colab": {
          "base_uri": "https://localhost:8080/"
        },
        "id": "tNaxgeVDLtQt",
        "outputId": "f1a05b35-40e4-4883-cef0-8e5bea45e7a1"
      },
      "execution_count": null,
      "outputs": [
        {
          "output_type": "stream",
          "name": "stdout",
          "text": [
            "Total consonents is :  36\n"
          ]
        }
      ]
    },
    {
      "cell_type": "code",
      "source": [
        "bikes = [\"RX 100\", \"GT 6650\", \"Ninja\", \"splendor\",\"Bajaj\",\"pulasr\",\"NS 200\", \"M 80\", \"unicorn\"]\n",
        "for bike in bikes :\n",
        "  if bike == \"NS 200\" :\n",
        "     break\n",
        "  print(bike)"
      ],
      "metadata": {
        "colab": {
          "base_uri": "https://localhost:8080/"
        },
        "id": "DBvdgDzfREl0",
        "outputId": "a7bf53a4-d4ac-427e-999e-3c27937ef347"
      },
      "execution_count": null,
      "outputs": [
        {
          "output_type": "stream",
          "name": "stdout",
          "text": [
            "RX 100\n",
            "GT 6650\n",
            "Ninja\n",
            "splendor\n",
            "Bajaj\n",
            "pulasr\n"
          ]
        }
      ]
    },
    {
      "cell_type": "code",
      "source": [
        "colours = {\"Purple\", \"Pink\", \"Black\", \"White\", \"Red\", \"Orange\", \"Levender\", \"Gray\", \"Yellow\", \"Maroon\"}\n",
        "\n",
        "for color in colours:\n",
        "    if color == \"Black\":\n",
        "        break\n",
        "    print(color)\n"
      ],
      "metadata": {
        "colab": {
          "base_uri": "https://localhost:8080/"
        },
        "id": "KI5925yTkJnp",
        "outputId": "b116214a-2a47-4d1d-ebbc-a5dfb9e7a835"
      },
      "execution_count": null,
      "outputs": [
        {
          "output_type": "stream",
          "name": "stdout",
          "text": [
            "Orange\n",
            "Levender\n",
            "Purple\n",
            "Red\n",
            "Pink\n",
            "White\n"
          ]
        }
      ]
    },
    {
      "cell_type": "code",
      "source": [
        "things = {\"Mobile\", \"Laptop\", \"Moniter\",\"tab\",\"Book\",\"Pen\",\"Paper\"}\n",
        "for thing in things :\n",
        "  if thing == \"Marker\":\n",
        "    continue\n",
        "  print(thing)\n"
      ],
      "metadata": {
        "id": "pJ520tQdk1k5",
        "colab": {
          "base_uri": "https://localhost:8080/"
        },
        "outputId": "ba0da42a-7ac9-405c-86e0-6af097eed6ec"
      },
      "execution_count": null,
      "outputs": [
        {
          "output_type": "stream",
          "name": "stdout",
          "text": [
            "Moniter\n",
            "Book\n",
            "Pen\n",
            "Paper\n",
            "Mobile\n",
            "Laptop\n",
            "tab\n"
          ]
        }
      ]
    },
    {
      "cell_type": "code",
      "source": [
        " for i in range(10):\n",
        "     for j in range(10):\n",
        "      print(\"+\",end=\" \")\n",
        "     print()"
      ],
      "metadata": {
        "colab": {
          "base_uri": "https://localhost:8080/"
        },
        "id": "LcNbrNEZtvbz",
        "outputId": "4e2538d8-f50c-4d37-b195-0aba76e9a81b"
      },
      "execution_count": null,
      "outputs": [
        {
          "output_type": "stream",
          "name": "stdout",
          "text": [
            "+ + + + + + + + + + \n",
            "+ + + + + + + + + + \n",
            "+ + + + + + + + + + \n",
            "+ + + + + + + + + + \n",
            "+ + + + + + + + + + \n",
            "+ + + + + + + + + + \n",
            "+ + + + + + + + + + \n",
            "+ + + + + + + + + + \n",
            "+ + + + + + + + + + \n",
            "+ + + + + + + + + + \n"
          ]
        }
      ]
    },
    {
      "cell_type": "code",
      "source": [
        "for i in range(10):\n",
        "    for j in range(0,i+1):\n",
        "        print(\" \",end=\" \")\n",
        "    for j in range(10):\n",
        "        print(\"⚓\",end=\" \")\n",
        "    print()\n"
      ],
      "metadata": {
        "colab": {
          "base_uri": "https://localhost:8080/"
        },
        "id": "4n2ZyTf1FZKv",
        "outputId": "5426278d-670a-4e9b-ba99-76c1b41cad29"
      },
      "execution_count": null,
      "outputs": [
        {
          "output_type": "stream",
          "name": "stdout",
          "text": [
            "  ⚓ ⚓ ⚓ ⚓ ⚓ ⚓ ⚓ ⚓ ⚓ ⚓ \n",
            "    ⚓ ⚓ ⚓ ⚓ ⚓ ⚓ ⚓ ⚓ ⚓ ⚓ \n",
            "      ⚓ ⚓ ⚓ ⚓ ⚓ ⚓ ⚓ ⚓ ⚓ ⚓ \n",
            "        ⚓ ⚓ ⚓ ⚓ ⚓ ⚓ ⚓ ⚓ ⚓ ⚓ \n",
            "          ⚓ ⚓ ⚓ ⚓ ⚓ ⚓ ⚓ ⚓ ⚓ ⚓ \n",
            "            ⚓ ⚓ ⚓ ⚓ ⚓ ⚓ ⚓ ⚓ ⚓ ⚓ \n",
            "              ⚓ ⚓ ⚓ ⚓ ⚓ ⚓ ⚓ ⚓ ⚓ ⚓ \n",
            "                ⚓ ⚓ ⚓ ⚓ ⚓ ⚓ ⚓ ⚓ ⚓ ⚓ \n",
            "                  ⚓ ⚓ ⚓ ⚓ ⚓ ⚓ ⚓ ⚓ ⚓ ⚓ \n",
            "                    ⚓ ⚓ ⚓ ⚓ ⚓ ⚓ ⚓ ⚓ ⚓ ⚓ \n"
          ]
        }
      ]
    },
    {
      "cell_type": "code",
      "source": [
        "row = 10\n",
        "col = 10\n",
        "for i in range(0,row):\n",
        "    for j in range(0,col):\n",
        "        if i == 0 or i == row-1 or j == 0 or j == col-1:\n",
        "            print(\"*\",end=\" \")\n",
        "        else:\n",
        "            print(\" \",end=\" \")\n",
        "    print()"
      ],
      "metadata": {
        "colab": {
          "base_uri": "https://localhost:8080/"
        },
        "id": "P2DGDTaFKzBf",
        "outputId": "2ac6a830-e717-412c-84bc-cf2133959821"
      },
      "execution_count": null,
      "outputs": [
        {
          "output_type": "stream",
          "name": "stdout",
          "text": [
            "* * * * * * * * * * \n",
            "*                 * \n",
            "*                 * \n",
            "*                 * \n",
            "*                 * \n",
            "*                 * \n",
            "*                 * \n",
            "*                 * \n",
            "*                 * \n",
            "* * * * * * * * * * \n"
          ]
        }
      ]
    },
    {
      "cell_type": "code",
      "source": [
        "num = 7\n",
        "for i in range(0, num):\n",
        "    for j in range(0, num - i - 1):\n",
        "        print(\" \", end=\" \")\n",
        "    for j in range(0, i * 2 + 1):\n",
        "        print(\"+\", end=\" \")\n",
        "    print()\n"
      ],
      "metadata": {
        "colab": {
          "base_uri": "https://localhost:8080/"
        },
        "id": "MHK3kPISM9dV",
        "outputId": "7b301e0d-87d4-4129-8b35-81f7b4fcd4c4"
      },
      "execution_count": null,
      "outputs": [
        {
          "output_type": "stream",
          "name": "stdout",
          "text": [
            "            + \n",
            "          + + + \n",
            "        + + + + + \n",
            "      + + + + + + + \n",
            "    + + + + + + + + + \n",
            "  + + + + + + + + + + + \n",
            "+ + + + + + + + + + + + + \n"
          ]
        }
      ]
    },
    {
      "cell_type": "code",
      "source": [
        "rows = 5\n",
        "for i in range(rows):\n",
        "    print(\" \" * (rows - i - 1) + \"* \" * (i + 1))\n",
        "\n",
        "for i in range(rows - 2, -1, -1):\n",
        "    print(\" \" * (rows - i - 1) + \"* \" * (i + 1))\n"
      ],
      "metadata": {
        "colab": {
          "base_uri": "https://localhost:8080/"
        },
        "id": "ZD-gSHkpSl-N",
        "outputId": "35874ddc-826c-4a74-f987-a37079461903"
      },
      "execution_count": null,
      "outputs": [
        {
          "output_type": "stream",
          "name": "stdout",
          "text": [
            "    * \n",
            "   * * \n",
            "  * * * \n",
            " * * * * \n",
            "* * * * * \n",
            " * * * * \n",
            "  * * * \n",
            "   * * \n",
            "    * \n"
          ]
        }
      ]
    },
    {
      "cell_type": "code",
      "source": [
        "# 1)Example\n",
        "def fun(num):\n",
        "  return num*num\n",
        "fun(4 )"
      ],
      "metadata": {
        "colab": {
          "base_uri": "https://localhost:8080/"
        },
        "id": "Qs5qduVnYZaC",
        "outputId": "9f055901-a0dd-492f-a2be-1357394b5841"
      },
      "execution_count": 91,
      "outputs": [
        {
          "output_type": "execute_result",
          "data": {
            "text/plain": [
              "16"
            ]
          },
          "metadata": {},
          "execution_count": 91
        }
      ]
    }
  ]
}