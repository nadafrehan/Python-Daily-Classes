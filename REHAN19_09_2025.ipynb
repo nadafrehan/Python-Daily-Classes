{
  "nbformat": 4,
  "nbformat_minor": 0,
  "metadata": {
    "colab": {
      "provenance": [],
      "authorship_tag": "ABX9TyNy2fjgR2ljs9HNoHwjSbJF",
      "include_colab_link": true
    },
    "kernelspec": {
      "name": "python3",
      "display_name": "Python 3"
    },
    "language_info": {
      "name": "python"
    }
  },
  "cells": [
    {
      "cell_type": "markdown",
      "metadata": {
        "id": "view-in-github",
        "colab_type": "text"
      },
      "source": [
        "<a href=\"https://colab.research.google.com/github/nadafrehan/Python-Daily-Classes/blob/main/REHAN19_09_2025.ipynb\" target=\"_parent\"><img src=\"https://colab.research.google.com/assets/colab-badge.svg\" alt=\"Open In Colab\"/></a>"
      ]
    },
    {
      "cell_type": "code",
      "execution_count": null,
      "metadata": {
        "colab": {
          "base_uri": "https://localhost:8080/"
        },
        "id": "So7ggrWZSIJJ",
        "outputId": "1b9ec5b5-c16f-4638-ecbd-c9b866e0d491"
      },
      "outputs": [
        {
          "output_type": "stream",
          "name": "stdout",
          "text": [
            "Total value is : 15\n",
            "Total value is : 18\n",
            "Total value is : 90\n"
          ]
        }
      ],
      "source": [
        "# 1) Example sum of numbers using *args\n",
        "def add(*args):\n",
        "    total = 0\n",
        "    for num in args :\n",
        "        total += num\n",
        "    print(\"Total value is :\",total)\n",
        "add(10,5)\n",
        "add(5,4,9)\n",
        "add(10,46,14,20)\n"
      ]
    },
    {
      "cell_type": "code",
      "source": [
        "def print_details (**kwargs):\n",
        "    for key, value in kwargs.items():\n",
        "      print(f\"{key}={value}\")\n",
        "\n",
        "print_details(name='Rehan',age=25,city='Banglore')"
      ],
      "metadata": {
        "colab": {
          "base_uri": "https://localhost:8080/"
        },
        "id": "3bbDQHtOS8-x",
        "outputId": "d7c7c65b-1f9a-4730-e683-7e5e0b3f8644"
      },
      "execution_count": null,
      "outputs": [
        {
          "output_type": "stream",
          "name": "stdout",
          "text": [
            "name=Rehan\n",
            "age=25\n",
            "city=Banglore\n"
          ]
        }
      ]
    },
    {
      "cell_type": "code",
      "source": [
        "def details(**kwargs):\n",
        "    for key, value in kwargs.items():\n",
        "      print(f' {key} = {value}')\n",
        "details(course=\"BCA\",section=\"c\",collage=\"BK collage\")\n",
        "details(place = \"Bengaluru\")\n",
        "details(roll_num=201, Total_Subject=7)\n",
        "details(Laptop = \"Lenova\", O_S = \"Windows\", year = 2022 , version = \"Windows\")"
      ],
      "metadata": {
        "colab": {
          "base_uri": "https://localhost:8080/"
        },
        "id": "m3F01JNNT5Ob",
        "outputId": "e08707fe-80ae-4b0a-c807-fd45b351c82a"
      },
      "execution_count": null,
      "outputs": [
        {
          "output_type": "stream",
          "name": "stdout",
          "text": [
            " course = BCA\n",
            " section = c\n",
            " collage = BK collage\n",
            " place = Bengaluru\n",
            " roll_num = 201\n",
            " Total_Subject = 7\n",
            " Laptop = Lenova\n",
            " O_S = Windows\n",
            " year = 2022\n",
            " version = Windows\n"
          ]
        }
      ]
    },
    {
      "cell_type": "code",
      "source": [
        "# Example of *args and **kwargs\n",
        "def Show_values(*args,**kwargs):\n",
        "    print(\"Positional Arguments represented in Tuple\",args)\n",
        "    print(\"Key - words Arguments represented in Dict \",kwargs)\n",
        "Show_values(1,2,3,4,name=\"Owais\")\n",
        "\n",
        "Show_values(5,8,1,10,Class = \"BCA C section\",Gender = \"Male\")\n"
      ],
      "metadata": {
        "colab": {
          "base_uri": "https://localhost:8080/"
        },
        "id": "gEUjE8WLY5n5",
        "outputId": "0723d927-8a77-4466-c71c-b2ee5b694dc3"
      },
      "execution_count": null,
      "outputs": [
        {
          "output_type": "stream",
          "name": "stdout",
          "text": [
            "Positional Arguments represented in Tuple (1, 2, 3, 4)\n",
            "Key - words Arguments represented in Dict  {'name': 'Owais'}\n",
            "Positional Arguments represented in Tuple (5, 8, 1, 10)\n",
            "Key - words Arguments represented in Dict  {'Class': 'BCA C section', 'Gender': 'Male'}\n"
          ]
        }
      ]
    },
    {
      "cell_type": "code",
      "source": [
        "def fact(num):\n",
        "    if num == 0 or num ==1 :\n",
        "       return num\n",
        "    else :\n",
        "       return num * fact(num-1)\n",
        "print(\"Factorial number is :\",fact(5))\n"
      ],
      "metadata": {
        "colab": {
          "base_uri": "https://localhost:8080/"
        },
        "id": "2VsB0ZA-ZqTQ",
        "outputId": "7a2fcbd9-e959-4f7e-cf0b-b7f4138a1fbb"
      },
      "execution_count": null,
      "outputs": [
        {
          "output_type": "stream",
          "name": "stdout",
          "text": [
            "Factorial number is : 120\n"
          ]
        }
      ]
    },
    {
      "cell_type": "code",
      "source": [
        "def sum(num):\n",
        "  if num == 0 :\n",
        "    return num\n",
        "  else :\n",
        "    return num + sum(num-1)\n",
        "print(\"sum of N natural number is:\", sum(10))"
      ],
      "metadata": {
        "id": "nyzIIO7HiErO",
        "colab": {
          "base_uri": "https://localhost:8080/"
        },
        "outputId": "00777d3a-91a0-4e55-f5ba-079146dea81a"
      },
      "execution_count": null,
      "outputs": [
        {
          "output_type": "stream",
          "name": "stdout",
          "text": [
            "sum of N natural number is: 55\n"
          ]
        }
      ]
    },
    {
      "cell_type": "code",
      "source": [
        "# fibonacci series / number using function recusion\n",
        "def fibo(num):\n",
        "  if num <= 1 :\n",
        "      return num\n",
        "  else :\n",
        "      return fibo(num-1) + fibo(num-2)\n",
        "for i in range(11):\n",
        "   print(fibo(i),end=\" \")"
      ],
      "metadata": {
        "colab": {
          "base_uri": "https://localhost:8080/"
        },
        "id": "O3N30D6ejnkq",
        "outputId": "e46a864f-2b88-4771-aac2-1f2db7087969"
      },
      "execution_count": null,
      "outputs": [
        {
          "output_type": "stream",
          "name": "stdout",
          "text": [
            "0 1 1 2 3 5 8 13 21 34 55 "
          ]
        }
      ]
    },
    {
      "cell_type": "code",
      "source": [
        "class Flower:\n",
        "  Smell = \"Nice\"\n",
        "  Petal = 5\n",
        "  Size = \"Medium\"\n",
        "  Gender = \"Male\"\n",
        "  Validity = 1.5\n",
        "  def Decoration(self):\n",
        "      print(\"Hello Good Morning\")\n",
        "  def Gift(self):\n",
        "      print(\"Good Afternoon\")\n",
        "  def Marriage(self):\n",
        "      print(\"Marriage\")\n",
        "  def Death(self):\n",
        "      print(\"This flower using for death time\")\n",
        "\n",
        "Obj = Flower()\n",
        "Obj.Marriage()\n",
        "print(Obj.Gender)\n",
        "Obj.Decoration()\n",
        "Obj.Gift()"
      ],
      "metadata": {
        "id": "LDY5OZYBkoT4",
        "colab": {
          "base_uri": "https://localhost:8080/"
        },
        "outputId": "123515d3-41b8-4364-d97f-2a1414989b8d"
      },
      "execution_count": null,
      "outputs": [
        {
          "output_type": "stream",
          "name": "stdout",
          "text": [
            "Marriage\n",
            "Male\n",
            "Hello Good Morning\n",
            "Good Afternoon\n"
          ]
        }
      ]
    },
    {
      "cell_type": "code",
      "source": [
        "class Fan :\n",
        "   colour = \"Black\"\n",
        "   Wings = 3\n",
        "   C_name = \"Bajaj\"\n",
        "   Price = 1500\n",
        "   Warrenty = \"2 years\"\n",
        "   def start(self):\n",
        "       print(\"When click on button it'll start\")\n",
        "   def speed(self):\n",
        "       print(\"Based on condition it'll move fast\")\n",
        "   def stop(self):\n",
        "       print(\"When click on off button it'll start\")\n",
        "\n",
        "Obj = Fan()\n",
        "print(Obj.C_name+ \" \"+ Obj.Warrenty)\n",
        "Obj.stop()\n",
        "Obj.start()\n"
      ],
      "metadata": {
        "colab": {
          "base_uri": "https://localhost:8080/"
        },
        "id": "3PjBAmaM4x7E",
        "outputId": "397f7584-a074-469a-f257-5fcbcb2940a3"
      },
      "execution_count": null,
      "outputs": [
        {
          "output_type": "stream",
          "name": "stdout",
          "text": [
            "Bajaj 2 years\n",
            "When click on off button it'll start\n",
            "When click on button it'll start\n"
          ]
        }
      ]
    },
    {
      "cell_type": "code",
      "source": [
        "def fun(name):\n",
        "    print(\"My name is a \",name)\n",
        "fun(\"REHAN\")\n"
      ],
      "metadata": {
        "colab": {
          "base_uri": "https://localhost:8080/"
        },
        "id": "vSaG-lQx74j4",
        "outputId": "0d4940ce-cf01-4e83-e4db-a8f0bab8e021"
      },
      "execution_count": null,
      "outputs": [
        {
          "output_type": "stream",
          "name": "stdout",
          "text": [
            "My name is a  Owais\n"
          ]
        }
      ]
    },
    {
      "cell_type": "code",
      "source": [
        "# Banking Example\n",
        "class Bank :\n",
        "    def __init__(self,balance):\n",
        "      self.balance = balance\n",
        "\n",
        "    def dDeposit(self,amount):\n",
        "        self.balance += amount\n",
        "\n",
        "    def Withdraw(self,amount):\n",
        "        if amount <= self.balance:\n",
        "            self.balance -= amount\n",
        "            print(\"Transaction Successfully\")\n",
        "        else:\n",
        "            print(\"Insufficient balance\")\n",
        "\n",
        "    def re_balance(self):\n",
        "        return self.balance\n",
        "\n",
        "Obj = Bank(1000)\n",
        "print(Obj.balance)\n",
        "Obj.dDeposit(500)\n",
        "print(Obj.balance)\n",
        "Obj.Withdraw(700)\n",
        "print(Obj.re_balance())\n",
        "Obj.dDeposit(1000)\n",
        "print(\"Current total balance is : \",Obj.balance)\n",
        "\n",
        "\n",
        "\n",
        "\n",
        "\n"
      ],
      "metadata": {
        "colab": {
          "base_uri": "https://localhost:8080/"
        },
        "id": "uJsH1PANOzVt",
        "outputId": "4e691d0b-e898-49dc-b4f0-db40a042148b"
      },
      "execution_count": null,
      "outputs": [
        {
          "output_type": "stream",
          "name": "stdout",
          "text": [
            "1000\n",
            "1500\n",
            "Transaction Successfully\n",
            "800\n",
            "Current total balance is :  1800\n"
          ]
        }
      ]
    },
    {
      "cell_type": "code",
      "source": [
        "class Student:\n",
        "    def __init__(self, name, marks, place):\n",
        "        self.__name = name\n",
        "        self.__marks = marks\n",
        "        self.__place = place\n",
        "\n",
        "    def set_method(self, name, marks):\n",
        "        self.__name = name\n",
        "        self.__marks = marks\n",
        "\n",
        "\n",
        "    def get_marks(self):\n",
        "        return self.__marks\n",
        "\n",
        "\n",
        "    def get_place(self):\n",
        "        return self.__place\n",
        "\n",
        "    def get_name(self):\n",
        "        return self.__name\n",
        "\n",
        "obj = Student(\"Rehan\", 90, \"Belgavi\")\n",
        "obj.set_method(\"Rehan\", 68)\n",
        "\n",
        "\n",
        "print(obj.get_name())\n",
        "print(obj.get_marks())\n",
        "print(obj.get_place())\n"
      ],
      "metadata": {
        "colab": {
          "base_uri": "https://localhost:8080/"
        },
        "id": "CP9iqFQPXs4-",
        "outputId": "59d50cfd-8a7a-415a-9e83-266a17515ab0"
      },
      "execution_count": null,
      "outputs": [
        {
          "output_type": "stream",
          "name": "stdout",
          "text": [
            "Rehan\n",
            "68\n",
            "Belgavi\n"
          ]
        }
      ]
    },
    {
      "cell_type": "code",
      "source": [
        "class Parent:\n",
        "    def work(self):\n",
        "        print(\"My parents are doing farming\")\n",
        "\n",
        "class Children(Parent):\n",
        "    def study(self):\n",
        "        print(\"I am studying BCA in BK College\")\n",
        "\n",
        "ch = Children()\n",
        "ch.work()\n",
        "ch.study()\n"
      ],
      "metadata": {
        "id": "_O8xopEUY7ru",
        "colab": {
          "base_uri": "https://localhost:8080/"
        },
        "outputId": "a0341378-0314-4dd1-bef0-b0406589e341"
      },
      "execution_count": 26,
      "outputs": [
        {
          "output_type": "stream",
          "name": "stdout",
          "text": [
            "My parents are doing farming\n",
            "I am studying BCA in BK College\n"
          ]
        }
      ]
    },
    {
      "cell_type": "code",
      "source": [
        "class Father:\n",
        "    def hi(self):\n",
        "        print(\"My father is my hero\")\n",
        "\n",
        "class Mother:\n",
        "    def hello(self):\n",
        "        print(\"My mother is a housewife\")\n",
        "\n",
        "class Child(Father, Mother):\n",
        "    def bye(self):\n",
        "        print(\"I am working as a freelancer\")\n",
        "\n",
        "\n",
        "obj = Child()\n",
        "\n",
        "\n",
        "obj.hi()\n",
        "obj.hello()\n",
        "obj.bye()"
      ],
      "metadata": {
        "colab": {
          "base_uri": "https://localhost:8080/"
        },
        "id": "9vZut2KhlVNi",
        "outputId": "a90c9334-7353-4408-9ccb-d2efbe73d95a"
      },
      "execution_count": 27,
      "outputs": [
        {
          "output_type": "stream",
          "name": "stdout",
          "text": [
            "My father is my hero\n",
            "My mother is a housewife\n",
            "I am working as a freelancer\n"
          ]
        }
      ]
    },
    {
      "cell_type": "code",
      "source": [
        "class GrandParents:\n",
        "    def formar(self):\n",
        "        print(\"✅✅✅✅✅✅\")\n",
        "\n",
        "class Parent(GrandParents):\n",
        "    def house(self):\n",
        "        print(\"🏠🏠🏠🏠\")\n",
        "\n",
        "class Child(Parent):\n",
        "    def jolly(self):\n",
        "        print(\"😁😁😁😁\")\n",
        "\n",
        "\n",
        "c = Child()\n",
        "c.formar()\n",
        "c.house()\n",
        "c.jolly()\n"
      ],
      "metadata": {
        "colab": {
          "base_uri": "https://localhost:8080/"
        },
        "id": "03yjUUUunQFf",
        "outputId": "452779a1-e3db-4546-c8a6-662bb5d82000"
      },
      "execution_count": 31,
      "outputs": [
        {
          "output_type": "stream",
          "name": "stdout",
          "text": [
            "✅✅✅✅✅✅\n",
            "🏠🏠🏠🏠\n",
            "😁😁😁😁\n",
            "✅✅✅✅✅✅\n",
            "🏠🏠🏠🏠\n",
            "😁😁😁😁\n"
          ]
        }
      ]
    },
    {
      "cell_type": "code",
      "source": [
        "class Parent:\n",
        "    def business(self):\n",
        "        print('My parent is doing business')\n",
        "\n",
        "class Child1(Parent):\n",
        "    def study(self):\n",
        "        print('I am studying BCA')\n",
        "\n",
        "class Child(Parent):\n",
        "    def study(self):\n",
        "        print('I am studying PUC')\n"
      ],
      "metadata": {
        "id": "Mc9DTZD5qQ3x"
      },
      "execution_count": 38,
      "outputs": []
    },
    {
      "cell_type": "code",
      "source": [
        "class A:\n",
        "    def hi(self):\n",
        "        print(\"Hiiiiii\")\n",
        "\n",
        "class B:\n",
        "    def hello(self):\n",
        "        print('Hellowwww')\n",
        "\n",
        "class C:\n",
        "    def good(self):\n",
        "        print(\"Byeeeee\")\n",
        "\n",
        "class D(B, C):\n",
        "    def Good(self):\n",
        "        print(\"Goooooddddd\")\n",
        "\n",
        "obj = D()\n",
        "\n",
        "obj.hello()\n",
        "obj.good()\n",
        "obj.Good()"
      ],
      "metadata": {
        "colab": {
          "base_uri": "https://localhost:8080/"
        },
        "id": "VJWivyY2t9vY",
        "outputId": "ab412e90-28b5-4046-8142-693c923a6f4b"
      },
      "execution_count": 42,
      "outputs": [
        {
          "output_type": "stream",
          "name": "stdout",
          "text": [
            "Hellowwww\n",
            "Byeeeee\n",
            "Goooooddddd\n"
          ]
        }
      ]
    }
  ]
}