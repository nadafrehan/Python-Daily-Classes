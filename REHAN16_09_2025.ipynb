{
  "nbformat": 4,
  "nbformat_minor": 0,
  "metadata": {
    "colab": {
      "provenance": [],
      "authorship_tag": "ABX9TyPiSDuLOnOhRUjK+7hun3Xn",
      "include_colab_link": true
    },
    "kernelspec": {
      "name": "python3",
      "display_name": "Python 3"
    },
    "language_info": {
      "name": "python"
    }
  },
  "cells": [
    {
      "cell_type": "markdown",
      "metadata": {
        "id": "view-in-github",
        "colab_type": "text"
      },
      "source": [
        "<a href=\"https://colab.research.google.com/github/nadafrehan/Python-Daily-Classes/blob/main/REHAN16_09_2025.ipynb\" target=\"_parent\"><img src=\"https://colab.research.google.com/assets/colab-badge.svg\" alt=\"Open In Colab\"/></a>"
      ]
    },
    {
      "cell_type": "code",
      "execution_count": null,
      "metadata": {
        "colab": {
          "base_uri": "https://localhost:8080/"
        },
        "id": "uq3UjEJYvjmO",
        "outputId": "26de99ce-24a2-4ecc-8308-db8b61582681"
      },
      "outputs": [
        {
          "output_type": "stream",
          "name": "stdout",
          "text": [
            "['laptop', 39000, 'Windows', 'Lenovo', 'Benguluru', 'Laptop', 39000, 'MAC', 'Lenovo', 'Chikkodi']\n",
            "2\n"
          ]
        }
      ],
      "source": [
        "Example = [\"laptop\", 39000, \"Windows\",\"Lenovo\", \"Benguluru\", \"Laptop\",39000,\"MAC\",\"Lenovo\", \"Chikkodi\"]\n",
        "print(Example)\n",
        "print(Example.count(\"Lenovo\"))"
      ]
    },
    {
      "cell_type": "code",
      "source": [
        "#Run time program\n",
        "\n",
        "X = int(input(\"Enter X value\"))\n",
        "Y = int(input(\"Enter Y value\"))\n",
        "print(\"Addition of\", X , \"And\",Y, \"Value is = \", X+Y)\n",
        "\n",
        "#Addition of 10 and 20 value is = 30"
      ],
      "metadata": {
        "colab": {
          "base_uri": "https://localhost:8080/"
        },
        "id": "ig3GH4smyWRM",
        "outputId": "230a2569-301e-4af0-dfb6-ca1ed5002875"
      },
      "execution_count": null,
      "outputs": [
        {
          "output_type": "stream",
          "name": "stdout",
          "text": [
            "Enter X value10\n",
            "Enter Y value20\n",
            "Addition of 10 And 20 Value is =  30\n"
          ]
        }
      ]
    },
    {
      "cell_type": "code",
      "source": [
        "first = float(input(\"Enter first Value  \"))\n",
        "Second = float(input(\"Enter second value  \"))\n",
        "print(first * Second)"
      ],
      "metadata": {
        "colab": {
          "base_uri": "https://localhost:8080/"
        },
        "id": "RGbGiLjC0hqD",
        "outputId": "a65af501-8bf8-41c1-cdfb-356804c00e33"
      },
      "execution_count": null,
      "outputs": [
        {
          "output_type": "stream",
          "name": "stdout",
          "text": [
            "Enter first Value  10\n",
            "Enter second value  20\n",
            "200.0\n"
          ]
        }
      ]
    },
    {
      "cell_type": "code",
      "source": [
        "first_name = input(\"Enter first name : \")\n",
        "last_name =  input(\"Enter last name : \")\n",
        "print(first_name+ \" \"+ last_name)"
      ],
      "metadata": {
        "colab": {
          "base_uri": "https://localhost:8080/"
        },
        "id": "ZbRJ7kBh3V2q",
        "outputId": "204f4087-736d-44db-c9ef-cb0514274675"
      },
      "execution_count": null,
      "outputs": [
        {
          "output_type": "stream",
          "name": "stdout",
          "text": [
            "Enter first name : Rehan\n",
            "Enter last name : Nadaf\n",
            "Rehan Nadaf\n"
          ]
        }
      ]
    },
    {
      "cell_type": "code",
      "source": [
        "I = int(input(\"enter the value of I : \"))\n",
        "J = int(input(\"Enter the value of J : \"))\n",
        "print(I * J)"
      ],
      "metadata": {
        "colab": {
          "base_uri": "https://localhost:8080/"
        },
        "id": "RZLGdSeH4gYb",
        "outputId": "4b6beabc-22ca-4a17-c654-62f60e23775d"
      },
      "execution_count": null,
      "outputs": [
        {
          "output_type": "stream",
          "name": "stdout",
          "text": [
            "enter the value of I : 10\n",
            "Enter the value of J : 20\n",
            "200\n"
          ]
        }
      ]
    },
    {
      "cell_type": "code",
      "source": [
        "i = input()\n",
        "j = input()\n",
        "print(i + j)"
      ],
      "metadata": {
        "colab": {
          "base_uri": "https://localhost:8080/"
        },
        "id": "3m6Q8d6F8n1i",
        "outputId": "5723d141-d801-421e-f21a-5bbf90474826"
      },
      "execution_count": null,
      "outputs": [
        {
          "output_type": "stream",
          "name": "stdout",
          "text": [
            "bkc\n",
            "collage\n",
            "bkccollage\n"
          ]
        }
      ]
    },
    {
      "cell_type": "code",
      "source": [
        "X = 100\n",
        "Y = 50\n",
        "print(f'Addition of {X} and {Y} value is = {X+Y}')"
      ],
      "metadata": {
        "colab": {
          "base_uri": "https://localhost:8080/"
        },
        "id": "lRdJvHgv_X2i",
        "outputId": "8df195ba-4c04-4d5e-d499-701ec6e0c12d"
      },
      "execution_count": null,
      "outputs": [
        {
          "output_type": "stream",
          "name": "stdout",
          "text": [
            "Addition of 100 and 50 value is = 150\n"
          ]
        }
      ]
    },
    {
      "cell_type": "code",
      "source": [
        "X = 100\n",
        "Y = 50\n",
        "print(f'Division of {X} and {Y} value is = {X/Y}')"
      ],
      "metadata": {
        "colab": {
          "base_uri": "https://localhost:8080/"
        },
        "id": "9t_gX14n_uyJ",
        "outputId": "2d69ce1d-1347-40f3-d583-77b40f4544d2"
      },
      "execution_count": null,
      "outputs": [
        {
          "output_type": "stream",
          "name": "stdout",
          "text": [
            "Division of 100 and 50 value is = 2.0\n"
          ]
        }
      ]
    },
    {
      "cell_type": "code",
      "source": [
        "#Hi,GOOD morning MY name is sujal,i have completed 2nd puc in the year of 2025,cureently i'm studing in BK BCA college Ckilodi 591 201\n",
        "name=\"sujal\"\n",
        "cource=\"PUC\"\n",
        "year=2025\n",
        "department=\"BCA\"\n",
        "pincode=591201\n",
        "\n",
        "print(f\"Hi,Good morning my name is {name},i have completed  {cource}, in the year of {year},cureently i'm studing in BK {department}, college Chikodi {pincode}\")\n"
      ],
      "metadata": {
        "colab": {
          "base_uri": "https://localhost:8080/"
        },
        "id": "P8JRAZgcAAzZ",
        "outputId": "fa4a25de-ae27-4ead-8f80-8f4f96a4e474"
      },
      "execution_count": null,
      "outputs": [
        {
          "output_type": "stream",
          "name": "stdout",
          "text": [
            "Hi,Good morning my name is sujal,i have completed  PUC, in the year of 2025,cureently i'm studing in BK BCA, college Chikodi 591201\n"
          ]
        }
      ]
    },
    {
      "cell_type": "code",
      "source": [
        "Num1 = int(input(\"Enter Num1 value : \"))\n",
        "Num2 = int(input(\"Enter Num2 Value : \"))\n",
        "print()\n",
        "print(\"Addition of two Number is : \",Num1 + Num2)\n",
        "print()\n",
        "print(\"Multiplication of two mumber is : \",Num1 * Num2)\n",
        "print()\n",
        "print(\"Division of two mumber is : \",Num1 / Num2)\n",
        "print()\n",
        "print(\"Floor Division of two mumber is : \",Num1 // Num2)\n",
        "print()\n",
        "print(\"Modulus of two mumber is : \",Num1 % Num2)\n",
        "\n",
        "X = 5\n",
        "Y = 3\n",
        "print()\n",
        "print(\"Exponent value is :\", X ** Y )"
      ],
      "metadata": {
        "colab": {
          "base_uri": "https://localhost:8080/"
        },
        "id": "1hh5ireZEmY6",
        "outputId": "79e03f4f-fe46-4c6d-bb92-2d74e3cd4b2b"
      },
      "execution_count": null,
      "outputs": [
        {
          "output_type": "stream",
          "name": "stdout",
          "text": [
            "Enter Num1 value : 10\n",
            "Enter Num2 Value : 20\n",
            "\n",
            "Addition of two Number is :  30\n",
            "\n",
            "Multiplication of two mumber is :  200\n",
            "\n",
            "Division of two mumber is :  0.5\n",
            "\n",
            "Floor Division of two mumber is :  0\n",
            "\n",
            "Modulus of two mumber is :  10\n",
            "\n",
            "Exponent value is : 125\n"
          ]
        }
      ]
    },
    {
      "cell_type": "code",
      "source": [
        "number1 = 35\n",
        "number2 = 40\n",
        "print(number1 > number2)\n",
        "print()\n",
        "print(number2 < number1)\n",
        "print()\n",
        "print(number1 == 35)\n",
        "print()\n",
        "print(number1 <= number2)\n",
        "print()\n",
        "print(number1 >= number2)\n",
        "print()\n",
        "print(number1 == number2)\n",
        "print()\n",
        "print(number1 != number2)"
      ],
      "metadata": {
        "colab": {
          "base_uri": "https://localhost:8080/"
        },
        "id": "mnnXRQ7nKv0I",
        "outputId": "2173e94d-b538-4fb6-e2b9-19c708355f4e"
      },
      "execution_count": null,
      "outputs": [
        {
          "output_type": "stream",
          "name": "stdout",
          "text": [
            "False\n",
            "\n",
            "False\n",
            "\n",
            "True\n",
            "\n",
            "True\n",
            "\n",
            "False\n",
            "\n",
            "False\n",
            "\n",
            "True\n"
          ]
        }
      ]
    },
    {
      "cell_type": "code",
      "source": [
        "X = 10\n",
        "print(X)\n",
        "\n",
        "X -= 2\n",
        "print(X)\n",
        "\n",
        "X *=5\n",
        "print(X)\n",
        "\n",
        "X //= 3\n",
        "print(X)\n",
        "\n",
        "X **= 2\n",
        "print(X)\n",
        "\n",
        "X +=9\n",
        "print(X)\n",
        "\n",
        "X /=3\n",
        "print(X)"
      ],
      "metadata": {
        "colab": {
          "base_uri": "https://localhost:8080/"
        },
        "id": "HDE3kwj_Yyan",
        "outputId": "c6bc92dd-e14d-42ce-e544-aff5209729f7"
      },
      "execution_count": null,
      "outputs": [
        {
          "output_type": "stream",
          "name": "stdout",
          "text": [
            "10\n",
            "8\n",
            "40\n",
            "13\n",
            "169\n",
            "178\n",
            "59.333333333333336\n"
          ]
        }
      ]
    },
    {
      "cell_type": "code",
      "source": [
        "Num = 9\n",
        "if Num < 10 :\n",
        "  print(\"10 is greater then 9\")"
      ],
      "metadata": {
        "colab": {
          "base_uri": "https://localhost:8080/"
        },
        "id": "eyxHjOkdc5Ow",
        "outputId": "81d59ce0-7f8b-4c2d-a041-9d8b32d0827d"
      },
      "execution_count": null,
      "outputs": [
        {
          "output_type": "stream",
          "name": "stdout",
          "text": [
            "10 is greater then 9\n"
          ]
        }
      ]
    },
    {
      "cell_type": "code",
      "source": [
        "user_id = \"20MCA123\"\n",
        "Password = 1234\n",
        "if user_id == \"20MCA123\" and Password == 1234 :\n",
        "  print(\"login successfuly\")\n"
      ],
      "metadata": {
        "colab": {
          "base_uri": "https://localhost:8080/"
        },
        "id": "7mOpMLz_1lxE",
        "outputId": "e8d1461a-823c-44d5-bd4a-29747bdcb38e"
      },
      "execution_count": null,
      "outputs": [
        {
          "output_type": "stream",
          "name": "stdout",
          "text": [
            "login successfuly\n"
          ]
        }
      ]
    },
    {
      "cell_type": "code",
      "source": [
        "Ex = 59\n",
        "if Ex ==58 :\n",
        "  print(\"are you understand\")"
      ],
      "metadata": {
        "id": "wL155AwC2lFo"
      },
      "execution_count": null,
      "outputs": []
    },
    {
      "cell_type": "code",
      "source": [
        "Name = \"Rehan\"\n",
        "if Name <=  \"BKC\"\n",
        "  print(\"My Name is Rehan\")"
      ],
      "metadata": {
        "colab": {
          "base_uri": "https://localhost:8080/",
          "height": 106
        },
        "id": "UCw-tczJ3FMb",
        "outputId": "0660966a-5a2b-4321-9820-b06e56c30cfb"
      },
      "execution_count": null,
      "outputs": [
        {
          "output_type": "error",
          "ename": "SyntaxError",
          "evalue": "expected ':' (ipython-input-1258047537.py, line 2)",
          "traceback": [
            "\u001b[0;36m  File \u001b[0;32m\"/tmp/ipython-input-1258047537.py\"\u001b[0;36m, line \u001b[0;32m2\u001b[0m\n\u001b[0;31m    if Name <=  \"BKC\"\u001b[0m\n\u001b[0m                     ^\u001b[0m\n\u001b[0;31mSyntaxError\u001b[0m\u001b[0;31m:\u001b[0m expected ':'\n"
          ]
        }
      ]
    },
    {
      "cell_type": "code",
      "source": [
        "num = int(input(\"Enter a number: \"))\n",
        "\n",
        "if num  > 0 :\n",
        "    print(\"Positive Number\")\n",
        "else :\n",
        "    print(\"Negative Number\")\n"
      ],
      "metadata": {
        "colab": {
          "base_uri": "https://localhost:8080/"
        },
        "id": "L8MoX7rH6TzK",
        "outputId": "84a34f07-b9e0-4bf2-ef6d-4dc26eaacb68"
      },
      "execution_count": null,
      "outputs": [
        {
          "output_type": "stream",
          "name": "stdout",
          "text": [
            "Enter a number: 10\n",
            "Positive Number\n"
          ]
        }
      ]
    },
    {
      "cell_type": "code",
      "source": [
        "num = int(input(\"Enter a number: \"))\n",
        "\n",
        "if num % 2 == 0:\n",
        "    print(\"Even number\")\n",
        "else:\n",
        "    print(\"odd number\")\n"
      ],
      "metadata": {
        "colab": {
          "base_uri": "https://localhost:8080/"
        },
        "id": "JLOwWA0d7W3Z",
        "outputId": "e5a66242-b492-4ea8-c5f2-84fd5aa1f44e"
      },
      "execution_count": null,
      "outputs": [
        {
          "output_type": "stream",
          "name": "stdout",
          "text": [
            "Enter a number: 2\n",
            "Even number\n"
          ]
        }
      ]
    },
    {
      "cell_type": "code",
      "source": [
        "year = int(input(\"Enter a year: \"))\n",
        "if year % 4 == 0 :\n",
        "    print(\"It is the leap year\")\n",
        "else:\n",
        "    print(\"It is not the leap year\")\n"
      ],
      "metadata": {
        "colab": {
          "base_uri": "https://localhost:8080/"
        },
        "id": "1dIeWNPV9BKM",
        "outputId": "02ad9f3b-82ee-47d3-fa49-49db97114cf9"
      },
      "execution_count": null,
      "outputs": [
        {
          "output_type": "stream",
          "name": "stdout",
          "text": [
            "Enter a year: 2026\n",
            "It is not the leap year\n"
          ]
        }
      ]
    },
    {
      "cell_type": "code",
      "source": [
        "Age = int(input(\"Enter the Age : \"))\n",
        "if Age  >= 18 :\n",
        "    print(\"You are eligible voting \")\n",
        "else :\n",
        "    print(\"you are not elegible for voting \")"
      ],
      "metadata": {
        "colab": {
          "base_uri": "https://localhost:8080/"
        },
        "id": "-IsfzB-f_gFg",
        "outputId": "648359bd-b7bf-49d7-a9a0-fad90eab6155"
      },
      "execution_count": null,
      "outputs": [
        {
          "output_type": "stream",
          "name": "stdout",
          "text": [
            "Enter the Age : 18\n",
            "You are eligible voting \n"
          ]
        }
      ]
    },
    {
      "cell_type": "code",
      "source": [
        "user_id = input(\"Enter User ID: \")\n",
        "password = getpass.getpass(\"Enter Password: \")\n",
        "\n",
        "if user_id == \"admin\" and password == \"password\":\n",
        "    print(\"Login successful!\")\n",
        "else:\n",
        "    print(\"Invalid User ID or Password.\")\n"
      ],
      "metadata": {
        "id": "f8xmF_dLDFDS"
      },
      "execution_count": null,
      "outputs": []
    },
    {
      "cell_type": "code",
      "source": [
        "marks = int(input(\"Enter Marks : \"))\n",
        "if marks >= 85 :\n",
        "  print(\"Distiction\")\n",
        "elif marks >= 70:\n",
        " print(\"first class\")\n",
        "elif marks >=55 :\n",
        "      print(\"Secound class\")\n",
        "elif marks >= 35 :\n",
        "        print(\"Just pass\")\n",
        "else :\n",
        "    print(\"fail better luck next time\")"
      ],
      "metadata": {
        "id": "DPgkiP6TJDMX"
      },
      "execution_count": null,
      "outputs": []
    }
  ]
}