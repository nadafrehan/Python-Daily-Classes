{
  "nbformat": 4,
  "nbformat_minor": 0,
  "metadata": {
    "colab": {
      "provenance": [],
      "authorship_tag": "ABX9TyO0LDWD/450B9eS+Ot+lYFV",
      "include_colab_link": true
    },
    "kernelspec": {
      "name": "python3",
      "display_name": "Python 3"
    },
    "language_info": {
      "name": "python"
    }
  },
  "cells": [
    {
      "cell_type": "markdown",
      "metadata": {
        "id": "view-in-github",
        "colab_type": "text"
      },
      "source": [
        "<a href=\"https://colab.research.google.com/github/nadafrehan/Python-Daily-Classes/blob/main/REHAN13_09_2025.ipynb\" target=\"_parent\"><img src=\"https://colab.research.google.com/assets/colab-badge.svg\" alt=\"Open In Colab\"/></a>"
      ]
    },
    {
      "cell_type": "code",
      "execution_count": null,
      "metadata": {
        "colab": {
          "base_uri": "https://localhost:8080/"
        },
        "id": "keMkVg9VRu3Q",
        "outputId": "669b8650-2bc0-4096-8e8d-89bf948ad3e8"
      },
      "outputs": [
        {
          "output_type": "stream",
          "name": "stdout",
          "text": [
            "good morning 18\n"
          ]
        }
      ],
      "source": [
        "a,b,c = \"good\" , \"morning\" , 18\n",
        "print(a,b,c)"
      ]
    },
    {
      "cell_type": "code",
      "source": [
        "name,college,degree,roll=\"rehan\",\"bk\",\"BCA\",101\n",
        "print(\"hi good morning, i am\",name,\"i am studing\",degree,\"in\",college, \"collage at chikkodi\",\"my roll number is\",roll)\n",
        "\n"
      ],
      "metadata": {
        "colab": {
          "base_uri": "https://localhost:8080/"
        },
        "id": "vEFfReoQTNKs",
        "outputId": "18d5de9f-bcc9-4dcf-8d13-7e627fb39541"
      },
      "execution_count": null,
      "outputs": [
        {
          "output_type": "stream",
          "name": "stdout",
          "text": [
            "hi good morning, i am rehan i am studing BCA in bk collage at chikkodi my roll number is 101\n"
          ]
        }
      ]
    },
    {
      "cell_type": "code",
      "source": [
        "A = B , C = \"collage\", 25\n",
        "print(B, C, A)"
      ],
      "metadata": {
        "colab": {
          "base_uri": "https://localhost:8080/"
        },
        "id": "iINfnlrmX7ZF",
        "outputId": "ffbbf7cd-be3c-4b99-9b92-c42539ccbd90"
      },
      "execution_count": null,
      "outputs": [
        {
          "output_type": "stream",
          "name": "stdout",
          "text": [
            "collage 25 ('collage', 25)\n"
          ]
        }
      ]
    },
    {
      "cell_type": "code",
      "source": [
        "A = y10\n",
        "B = 20\n",
        "print(\"addition of\",A,\"and\",B, \"is =\",A+B)"
      ],
      "metadata": {
        "colab": {
          "base_uri": "https://localhost:8080/"
        },
        "id": "qLKgdOvHYaII",
        "outputId": "af18ce14-bf58-4cdc-b4e9-caa92b6116a0"
      },
      "execution_count": null,
      "outputs": [
        {
          "output_type": "stream",
          "name": "stdout",
          "text": [
            "addition of 10 and 20 is = 30\n"
          ]
        }
      ]
    },
    {
      "cell_type": "code",
      "source": [
        "NAme = \"false\"\n",
        "print(type(NAme))"
      ],
      "metadata": {
        "colab": {
          "base_uri": "https://localhost:8080/"
        },
        "id": "ZJIh-mt4YnjP",
        "outputId": "a80b2065-278e-4c7a-ad88-ddd37eb6f117"
      },
      "execution_count": null,
      "outputs": [
        {
          "output_type": "stream",
          "name": "stdout",
          "text": [
            "<class 'str'>\n"
          ]
        }
      ]
    },
    {
      "cell_type": "code",
      "source": [
        "yes = \"\"\"True\"\"\"\n",
        "print(yes)"
      ],
      "metadata": {
        "colab": {
          "base_uri": "https://localhost:8080/"
        },
        "id": "MeK5KoJKfbea",
        "outputId": "4eed88ca-b00e-48a8-e057-89f84e658d44"
      },
      "execution_count": null,
      "outputs": [
        {
          "output_type": "stream",
          "name": "stdout",
          "text": [
            "True\n"
          ]
        }
      ]
    },
    {
      "cell_type": "code",
      "source": [
        "first = \"BKC\"\n",
        "second = \"college \"\n",
        "print(((first+\" \"+second)+\"\\n\")*5)"
      ],
      "metadata": {
        "colab": {
          "base_uri": "https://localhost:8080/"
        },
        "id": "hKy4yhqDmpxH",
        "outputId": "c0972557-daa9-408f-afe3-733fc007a917"
      },
      "execution_count": null,
      "outputs": [
        {
          "output_type": "stream",
          "name": "stdout",
          "text": [
            "BKC college \n",
            "BKC college \n",
            "BKC college \n",
            "BKC college \n",
            "BKC college \n",
            "\n"
          ]
        }
      ]
    },
    {
      "cell_type": "code",
      "source": [
        "Name = \"python programing languages\"\n",
        "print(Name[::-3])"
      ],
      "metadata": {
        "colab": {
          "base_uri": "https://localhost:8080/"
        },
        "id": "YaUSHo59tgqB",
        "outputId": "59ab7581-04de-4205-ecae-50309ef21381"
      },
      "execution_count": null,
      "outputs": [
        {
          "output_type": "stream",
          "name": "stdout",
          "text": [
            "san irrnt\n"
          ]
        }
      ]
    },
    {
      "cell_type": "code",
      "source": [
        "Details ='''multi line comment\n",
        "hi, Good Morning\n",
        "'''\n",
        "print(Details)"
      ],
      "metadata": {
        "colab": {
          "base_uri": "https://localhost:8080/"
        },
        "id": "5EXxO3Ufy5LD",
        "outputId": "148a689c-1000-45e2-8636-6c6500bb65b8"
      },
      "execution_count": null,
      "outputs": [
        {
          "output_type": "stream",
          "name": "stdout",
          "text": [
            "multi line comment\n",
            "hi, Good Morning\n",
            "\n"
          ]
        }
      ]
    },
    {
      "cell_type": "code",
      "source": [
        "Details = [101]\n",
        "print(Details)\n",
        "print(type(Details))\n",
        "\n",
        "Details.append(85.12)\n",
        "Details.append(True)\n",
        "print(Details)\n",
        "\n",
        "Details.append('Rehan')\n",
        "Details.append(99)\n",
        "Details.append(9)\n",
        "Details.append('BK College')\n",
        "Details.append('Doubles') # fixed here\n",
        "\n",
        "print(Details)\n",
        "\n",
        "Details.pop()\n",
        "print(Details)\n",
        "print(Details)\n",
        "print(Details[2])\n",
        "print(Details[-1])\n",
        "\n",
        "Details.append(\"BKC College\")\n",
        "print(Details)\n",
        "\n",
        "Details[1] = 99\n",
        "print(Details)\n",
        "\n",
        "print(Details[2:4])\n",
        "\n",
        "Details.insert(2, False)\n",
        "print(Details)\n",
        "\n",
        "Details.remove(False)\n",
        "print(Details)\n",
        "x=5\n",
        "print(x)\n",
        "print(Details.count(101))"
      ],
      "metadata": {
        "colab": {
          "base_uri": "https://localhost:8080/"
        },
        "id": "JNxic9aMhx3Y",
        "outputId": "fb3bc88c-83d9-4ad1-fedc-5314cbbe73a1"
      },
      "execution_count": null,
      "outputs": [
        {
          "output_type": "stream",
          "name": "stdout",
          "text": [
            "[101]\n",
            "<class 'list'>\n",
            "[101, 85.12, True]\n",
            "[101, 85.12, True, 'Rehan', 99, 9, 'BK College', 'Doubles']\n",
            "[101, 85.12, True, 'Rehan', 99, 9, 'BK College']\n",
            "[101, 85.12, True, 'Rehan', 99, 9, 'BK College']\n",
            "True\n",
            "BK College\n",
            "[101, 85.12, True, 'Rehan', 99, 9, 'BK College', 'BKC College']\n",
            "[101, 99, True, 'Rehan', 99, 9, 'BK College', 'BKC College']\n",
            "[True, 'Rehan']\n",
            "[101, 99, False, True, 'Rehan', 99, 9, 'BK College', 'BKC College']\n",
            "[101, 99, True, 'Rehan', 99, 9, 'BK College', 'BKC College']\n",
            "5\n",
            "1\n"
          ]
        }
      ]
    },
    {
      "cell_type": "code",
      "source": [],
      "metadata": {
        "id": "yCgvbeBDnnx3"
      },
      "execution_count": null,
      "outputs": []
    }
  ]
}