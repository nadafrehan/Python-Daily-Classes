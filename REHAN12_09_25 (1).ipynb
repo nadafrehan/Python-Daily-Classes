{
  "nbformat": 4,
  "nbformat_minor": 0,
  "metadata": {
    "colab": {
      "provenance": []
    },
    "kernelspec": {
      "name": "python3",
      "display_name": "Python 3"
    },
    "language_info": {
      "name": "python"
    }
  },
  "cells": [
    {
      "cell_type": "code",
      "source": [
        "print(\"REHAN\")"
      ],
      "metadata": {
        "colab": {
          "base_uri": "https://localhost:8080/"
        },
        "id": "BhdLtyxax3pu",
        "outputId": "38dd4a69-ea7a-4fd8-eed4-3d2f16bee784"
      },
      "execution_count": 8,
      "outputs": [
        {
          "output_type": "stream",
          "name": "stdout",
          "text": [
            "REHAN\n"
          ]
        }
      ]
    },
    {
      "cell_type": "markdown",
      "source": [
        "\n"
      ],
      "metadata": {
        "id": "jX6hKh6A0arF"
      }
    },
    {
      "cell_type": "code",
      "source": [
        "print(\"Hellow World\")"
      ],
      "metadata": {
        "colab": {
          "base_uri": "https://localhost:8080/"
        },
        "id": "yn2jn0FByY82",
        "outputId": "f577a6f0-2f39-47d6-a634-38dcbabdb8b9"
      },
      "execution_count": 9,
      "outputs": [
        {
          "output_type": "stream",
          "name": "stdout",
          "text": [
            "Hellow World\n"
          ]
        }
      ]
    },
    {
      "cell_type": "markdown",
      "source": [],
      "metadata": {
        "id": "MtQdIIsY0Zfk"
      }
    },
    {
      "cell_type": "code",
      "source": [
        "print(\"KLE School Ankali\")"
      ],
      "metadata": {
        "colab": {
          "base_uri": "https://localhost:8080/"
        },
        "id": "4bj2VTI3ylSO",
        "outputId": "31eb63a9-c58e-4ccf-e659-76857835adb6"
      },
      "execution_count": 10,
      "outputs": [
        {
          "output_type": "stream",
          "name": "stdout",
          "text": [
            "KLE School Ankali\n"
          ]
        }
      ]
    },
    {
      "cell_type": "code",
      "source": [
        "print(\"BJPU college Examba\")"
      ],
      "metadata": {
        "colab": {
          "base_uri": "https://localhost:8080/"
        },
        "id": "xpux8iYszFdq",
        "outputId": "12728262-d7ac-486c-8f40-35068af4ad8e"
      },
      "execution_count": 11,
      "outputs": [
        {
          "output_type": "stream",
          "name": "stdout",
          "text": [
            "BJPU college Examba\n"
          ]
        }
      ]
    },
    {
      "cell_type": "code",
      "source": [
        "print(\"BK BCA Collage Chikkodi\")"
      ],
      "metadata": {
        "colab": {
          "base_uri": "https://localhost:8080/"
        },
        "id": "iHQfaav2zOIe",
        "outputId": "55613065-99e5-440c-91ac-8f3ed28ba35d"
      },
      "execution_count": 12,
      "outputs": [
        {
          "output_type": "stream",
          "name": "stdout",
          "text": [
            "BK BCA Collage Chikkodi\n"
          ]
        }
      ]
    }
  ]
}